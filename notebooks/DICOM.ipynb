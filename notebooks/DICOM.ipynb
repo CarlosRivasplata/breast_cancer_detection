{
 "cells": [
  {
   "cell_type": "code",
   "execution_count": 3,
   "id": "3773d2ef-9ae8-4c5b-94de-bd61c235fb0b",
   "metadata": {},
   "outputs": [
    {
     "name": "stdout",
     "output_type": "stream",
     "text": [
      "Requirement already satisfied: pydicom in c:\\users\\daad1\\anaconda3\\envs\\breast_cancer_detection\\lib\\site-packages (3.0.1)\n",
      "Requirement already satisfied: pandas in c:\\users\\daad1\\anaconda3\\envs\\breast_cancer_detection\\lib\\site-packages (2.2.3)\n",
      "Requirement already satisfied: matplotlib in c:\\users\\daad1\\anaconda3\\envs\\breast_cancer_detection\\lib\\site-packages (3.10.0)\n",
      "Requirement already satisfied: openslide-python in c:\\users\\daad1\\anaconda3\\envs\\breast_cancer_detection\\lib\\site-packages (1.4.2)\n",
      "Collecting openslide-bin\n",
      "  Downloading openslide_bin-4.0.0.8-py3-none-win_amd64.whl.metadata (4.5 kB)\n",
      "Requirement already satisfied: numpy>=1.26.0 in c:\\users\\daad1\\appdata\\roaming\\python\\python312\\site-packages (from pandas) (2.1.3)\n",
      "Requirement already satisfied: python-dateutil>=2.8.2 in c:\\users\\daad1\\anaconda3\\envs\\breast_cancer_detection\\lib\\site-packages (from pandas) (2.9.0.post0)\n",
      "Requirement already satisfied: pytz>=2020.1 in c:\\users\\daad1\\anaconda3\\envs\\breast_cancer_detection\\lib\\site-packages (from pandas) (2025.2)\n",
      "Requirement already satisfied: tzdata>=2022.7 in c:\\users\\daad1\\anaconda3\\envs\\breast_cancer_detection\\lib\\site-packages (from pandas) (2025.2)\n",
      "Requirement already satisfied: contourpy>=1.0.1 in c:\\users\\daad1\\anaconda3\\envs\\breast_cancer_detection\\lib\\site-packages (from matplotlib) (1.3.2)\n",
      "Requirement already satisfied: cycler>=0.10 in c:\\users\\daad1\\anaconda3\\envs\\breast_cancer_detection\\lib\\site-packages (from matplotlib) (0.12.1)\n",
      "Requirement already satisfied: fonttools>=4.22.0 in c:\\users\\daad1\\anaconda3\\envs\\breast_cancer_detection\\lib\\site-packages (from matplotlib) (4.57.0)\n",
      "Requirement already satisfied: kiwisolver>=1.3.1 in c:\\users\\daad1\\anaconda3\\envs\\breast_cancer_detection\\lib\\site-packages (from matplotlib) (1.4.8)\n",
      "Requirement already satisfied: packaging>=20.0 in c:\\users\\daad1\\appdata\\roaming\\python\\python312\\site-packages (from matplotlib) (24.2)\n",
      "Requirement already satisfied: pillow>=8 in c:\\users\\daad1\\anaconda3\\envs\\breast_cancer_detection\\lib\\site-packages (from matplotlib) (11.2.1)\n",
      "Requirement already satisfied: pyparsing>=2.3.1 in c:\\users\\daad1\\anaconda3\\envs\\breast_cancer_detection\\lib\\site-packages (from matplotlib) (3.2.3)\n",
      "Requirement already satisfied: six>=1.5 in c:\\users\\daad1\\appdata\\roaming\\python\\python312\\site-packages (from python-dateutil>=2.8.2->pandas) (1.17.0)\n",
      "Downloading openslide_bin-4.0.0.8-py3-none-win_amd64.whl (4.2 MB)\n",
      "   ---------------------------------------- 0.0/4.2 MB ? eta -:--:--\n",
      "   ------------------------- -------------- 2.6/4.2 MB 12.6 MB/s eta 0:00:01\n",
      "   ---------------------------------------- 4.2/4.2 MB 12.5 MB/s eta 0:00:00\n",
      "Installing collected packages: openslide-bin\n",
      "Successfully installed openslide-bin-4.0.0.8\n"
     ]
    },
    {
     "name": "stderr",
     "output_type": "stream",
     "text": [
      "\n",
      "[notice] A new release of pip is available: 25.0.1 -> 25.1\n",
      "[notice] To update, run: python.exe -m pip install --upgrade pip\n"
     ]
    }
   ],
   "source": [
    "!pip install pydicom pandas matplotlib openslide-python openslide-bin"
   ]
  },
  {
   "cell_type": "code",
   "execution_count": 2,
   "id": "b7e321ba-93a1-46c1-9138-eca4a935a5be",
   "metadata": {},
   "outputs": [],
   "source": [
    "import pydicom\n",
    "import pandas as pd\n",
    "import matplotlib.pyplot as plt"
   ]
  },
  {
   "cell_type": "code",
   "execution_count": 34,
   "id": "86a9efc1-92ec-4c7d-b962-287999acc49f",
   "metadata": {},
   "outputs": [
    {
     "name": "stdout",
     "output_type": "stream",
     "text": [
      "['Specific Character Set', 'SOP Class UID', 'SOP Instance UID', 'Study Date', 'Content Date', 'Study Time', 'Content Time', 'Accession Number', 'Modality', 'Conversion Type', \"Referring Physician's Name\", 'Series Description', \"Patient's Name\", 'Patient ID', \"Patient's Birth Date\", \"Patient's Sex\", 'Private Creator', 'Private tag data', 'Private tag data', 'Body Part Examined', 'Secondary Capture Device Manufacturer', \"Secondary Capture Device Manufacturer's Model Name\", 'Study Instance UID', 'Series Instance UID', 'Study ID', 'Series Number', 'Instance Number', 'Patient Orientation', 'Laterality', 'Samples per Pixel', 'Photometric Interpretation', 'Rows', 'Columns', 'Bits Allocated', 'Bits Stored', 'High Bit', 'Pixel Representation', 'Smallest Image Pixel Value', 'Largest Image Pixel Value', 'Pixel Data']\n"
     ]
    },
    {
     "data": {
      "text/html": [
       "<div>\n",
       "<style scoped>\n",
       "    .dataframe tbody tr th:only-of-type {\n",
       "        vertical-align: middle;\n",
       "    }\n",
       "\n",
       "    .dataframe tbody tr th {\n",
       "        vertical-align: top;\n",
       "    }\n",
       "\n",
       "    .dataframe thead th {\n",
       "        text-align: right;\n",
       "    }\n",
       "</style>\n",
       "<table border=\"1\" class=\"dataframe\">\n",
       "  <thead>\n",
       "    <tr style=\"text-align: right;\">\n",
       "      <th>name</th>\n",
       "      <th>Specific Character Set</th>\n",
       "      <th>SOP Class UID</th>\n",
       "      <th>SOP Instance UID</th>\n",
       "      <th>Study Date</th>\n",
       "      <th>Content Date</th>\n",
       "      <th>Study Time</th>\n",
       "      <th>Content Time</th>\n",
       "      <th>Accession Number</th>\n",
       "      <th>Modality</th>\n",
       "      <th>Conversion Type</th>\n",
       "      <th>...</th>\n",
       "      <th>Photometric Interpretation</th>\n",
       "      <th>Rows</th>\n",
       "      <th>Columns</th>\n",
       "      <th>Bits Allocated</th>\n",
       "      <th>Bits Stored</th>\n",
       "      <th>High Bit</th>\n",
       "      <th>Pixel Representation</th>\n",
       "      <th>Smallest Image Pixel Value</th>\n",
       "      <th>Largest Image Pixel Value</th>\n",
       "      <th>Pixel Data</th>\n",
       "    </tr>\n",
       "  </thead>\n",
       "  <tbody>\n",
       "    <tr>\n",
       "      <th>0</th>\n",
       "      <td>ISO_IR 100</td>\n",
       "      <td>1.2.840.10008.5.1.4.1.1.7</td>\n",
       "      <td>1.3.6.1.4.1.9590.100.1.2.121880258312130736701...</td>\n",
       "      <td>20160807</td>\n",
       "      <td>20160503</td>\n",
       "      <td>162802</td>\n",
       "      <td>114204.438000</td>\n",
       "      <td></td>\n",
       "      <td>MG</td>\n",
       "      <td>WSD</td>\n",
       "      <td>...</td>\n",
       "      <td>MONOCHROME2</td>\n",
       "      <td>5326</td>\n",
       "      <td>3301</td>\n",
       "      <td>16</td>\n",
       "      <td>16</td>\n",
       "      <td>15</td>\n",
       "      <td>0</td>\n",
       "      <td>0</td>\n",
       "      <td>65535</td>\n",
       "      <td>b'\\xff\\xff\\xff\\xff\\xff\\xff\\xff\\xff\\xff\\xff\\xff...</td>\n",
       "    </tr>\n",
       "  </tbody>\n",
       "</table>\n",
       "<p>1 rows × 40 columns</p>\n",
       "</div>"
      ],
      "text/plain": [
       "name Specific Character Set              SOP Class UID  \\\n",
       "0                ISO_IR 100  1.2.840.10008.5.1.4.1.1.7   \n",
       "\n",
       "name                                   SOP Instance UID Study Date  \\\n",
       "0     1.3.6.1.4.1.9590.100.1.2.121880258312130736701...   20160807   \n",
       "\n",
       "name Content Date Study Time   Content Time Accession Number Modality  \\\n",
       "0        20160503     162802  114204.438000                        MG   \n",
       "\n",
       "name Conversion Type  ... Photometric Interpretation  Rows Columns  \\\n",
       "0                WSD  ...                MONOCHROME2  5326    3301   \n",
       "\n",
       "name Bits Allocated Bits Stored High Bit Pixel Representation  \\\n",
       "0                16          16       15                    0   \n",
       "\n",
       "name Smallest Image Pixel Value Largest Image Pixel Value  \\\n",
       "0                             0                     65535   \n",
       "\n",
       "name                                         Pixel Data  \n",
       "0     b'\\xff\\xff\\xff\\xff\\xff\\xff\\xff\\xff\\xff\\xff\\xff...  \n",
       "\n",
       "[1 rows x 40 columns]"
      ]
     },
     "execution_count": 34,
     "metadata": {},
     "output_type": "execute_result"
    }
   ],
   "source": [
    "dicom_df = None\n",
    "file_path = f'../data/CBIS-DDSM/CBIS-DDSM/Calc-Training_P_00474_LEFT_MLO/1.3.6.1.4.1.9590.100.1.2.275365930412464771525793839621783178044/1.3.6.1.4.1.9590.100.1.2.416722881411737593414359448931127663526/1-1.dcm'\n",
    "\n",
    "# Load the DICOM file\n",
    "dicom_data = pydicom.dcmread(file_path)\n",
    "dicom_data.decode()\n",
    "dicom_df = pd.DataFrame(dicom_data.values())\n",
    "dicom_df[0] = dicom_df[0].apply(lambda x: pydicom.dataelem.DataElement_from_raw(x) if isinstance(x, pydicom.dataelem.RawDataElement) else x)\n",
    "dicom_df['name'] = dicom_df[0].apply(lambda x: x.name)\n",
    "dicom_df['value'] = dicom_df[0].apply(lambda x: x.value)\n",
    "dicom_df = dicom_df[['name', 'value']]\n",
    "\n",
    "dicom_df = dicom_df.set_index('name').T.reset_index(drop=True)\n",
    "print(dicom_df.columns.tolist())\n",
    "dicom_df\n",
    "    \n",
    "    # Access the pixel data\n",
    "    # image = dicom_data.pixel_array\n",
    "    \n",
    "    # plt.imshow(image, cmap=\"gray\")\n",
    "    # plt.title(\"DICOM Image\")\n",
    "    # plt.axis(\"off\")\n",
    "    # plt.show()\n",
    "        "
   ]
  },
  {
   "cell_type": "code",
   "execution_count": null,
   "id": "8f660b5e-4a83-4020-a088-194d81b84fae",
   "metadata": {},
   "outputs": [],
   "source": []
  },
  {
   "cell_type": "code",
   "execution_count": 15,
   "id": "80a51ac8-9d66-4a7f-a463-4cd551986c35",
   "metadata": {},
   "outputs": [
    {
     "data": {
      "image/png": "[encoded data removed]",
      "text/plain": [
       "<Figure size 640x480 with 1 Axes>"
      ]
     },
     "metadata": {},
     "output_type": "display_data"
    }
   ],
   "source": [
    "import openslide\n",
    "\n",
    "# Replace this with the path to your .svs file\n",
    "svs_path = \"D:/TFM/breast_cancer_detection/data/PKG - CPTAC-BRCA_v1/BRCA/01BR001-4ffefc66-d0ba-4a36-b4fa-35bd91.svs\"\n",
    "\n",
    "# Open the slide\n",
    "slide = openslide.OpenSlide(svs_path)\n",
    "\n",
    "# Read a region of the slide at level 0 (highest resolution)\n",
    "region = slide.read_region(location=(0, 0), level=0, size=(200, 200))\n",
    "\n",
    "# Display it using matplotlib\n",
    "plt.imshow(region)\n",
    "plt.title(\"SVS Slide Preview (Top-Left Corner)\")\n",
    "plt.axis(\"off\")\n",
    "plt.show()\n"
   ]
  },
  {
   "cell_type": "code",
   "execution_count": null,
   "id": "6c0c3c1f-9224-495d-a0ba-7fe27da415b6",
   "metadata": {},
   "outputs": [],
   "source": []
  }
 ],
 "metadata": {
  "kernelspec": {
   "display_name": "Python 3 (ipykernel)",
   "language": "python",
   "name": "python3"
  },
  "language_info": {
   "codemirror_mode": {
    "name": "ipython",
    "version": 3
   },
   "file_extension": ".py",
   "mimetype": "text/x-python",
   "name": "python",
   "nbconvert_exporter": "python",
   "pygments_lexer": "ipython3",
   "version": "3.12.9"
  }
 },
 "nbformat": 4,
 "nbformat_minor": 5
}
