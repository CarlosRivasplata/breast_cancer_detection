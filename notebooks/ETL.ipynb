{
 "cells": [
  {
   "cell_type": "markdown",
   "id": "2c2ea971-a03d-4506-8cf8-736cf6493a1b",
   "metadata": {},
   "source": [
    "# Dependencias"
   ]
  },
  {
   "cell_type": "code",
   "execution_count": 1,
   "id": "f6d4fe14-1736-482d-bb98-9bb7356d2362",
   "metadata": {},
   "outputs": [],
   "source": [
    "# PyTorch con Soporte CUDA\n",
    "# !pip install torch torchvision torchaudio --index-url https://download.pytorch.org/whl/cu118"
   ]
  },
  {
   "cell_type": "code",
   "execution_count": 2,
   "id": "056b4d3b-ad23-482a-ae15-7cfb871c78ce",
   "metadata": {},
   "outputs": [
    {
     "name": "stdout",
     "output_type": "stream",
     "text": [
      "Requirement already satisfied: pyarrow in c:\\users\\daad1\\anaconda3\\envs\\breast_cancer_detection\\lib\\site-packages (20.0.0)\n",
      "Requirement already satisfied: findspark in c:\\users\\daad1\\anaconda3\\envs\\breast_cancer_detection\\lib\\site-packages (2.0.1)\n",
      "Requirement already satisfied: pyspark in c:\\users\\daad1\\anaconda3\\envs\\breast_cancer_detection\\lib\\site-packages (3.5.5)\n",
      "Requirement already satisfied: tensorflow in c:\\users\\daad1\\appdata\\roaming\\python\\python312\\site-packages (2.19.0)\n",
      "Requirement already satisfied: pandas in c:\\users\\daad1\\anaconda3\\envs\\breast_cancer_detection\\lib\\site-packages (2.2.3)\n",
      "Requirement already satisfied: scikit-learn in c:\\users\\daad1\\anaconda3\\envs\\breast_cancer_detection\\lib\\site-packages (1.6.1)\n",
      "Requirement already satisfied: ydata-profiling in c:\\users\\daad1\\anaconda3\\envs\\breast_cancer_detection\\lib\\site-packages (4.16.1)\n",
      "Requirement already satisfied: matplotlib in c:\\users\\daad1\\anaconda3\\envs\\breast_cancer_detection\\lib\\site-packages (3.10.0)\n",
      "Requirement already satisfied: numpy in c:\\users\\daad1\\appdata\\roaming\\python\\python312\\site-packages (2.1.3)\n",
      "Requirement already satisfied: seaborn in c:\\users\\daad1\\anaconda3\\envs\\breast_cancer_detection\\lib\\site-packages (0.13.2)\n",
      "Requirement already satisfied: opencv-python in c:\\users\\daad1\\anaconda3\\envs\\breast_cancer_detection\\lib\\site-packages (4.11.0.86)\n",
      "Requirement already satisfied: pillow in c:\\users\\daad1\\anaconda3\\envs\\breast_cancer_detection\\lib\\site-packages (11.2.1)\n",
      "Requirement already satisfied: pydicom in c:\\users\\daad1\\anaconda3\\envs\\breast_cancer_detection\\lib\\site-packages (3.0.1)\n",
      "Requirement already satisfied: scikit-image in c:\\users\\daad1\\anaconda3\\envs\\breast_cancer_detection\\lib\\site-packages (0.25.2)\n",
      "Requirement already satisfied: lime in c:\\users\\daad1\\anaconda3\\envs\\breast_cancer_detection\\lib\\site-packages (0.2.0.1)\n",
      "Requirement already satisfied: tf-keras-vis in c:\\users\\daad1\\anaconda3\\envs\\breast_cancer_detection\\lib\\site-packages (0.8.7)\n",
      "Requirement already satisfied: xlrd in c:\\users\\daad1\\anaconda3\\envs\\breast_cancer_detection\\lib\\site-packages (2.0.1)\n",
      "Requirement already satisfied: googletrans in c:\\users\\daad1\\anaconda3\\envs\\breast_cancer_detection\\lib\\site-packages (4.0.2)\n",
      "Requirement already satisfied: nest_asyncio in c:\\users\\daad1\\anaconda3\\envs\\breast_cancer_detection\\lib\\site-packages (1.6.0)\n",
      "Requirement already satisfied: torch in c:\\users\\daad1\\anaconda3\\envs\\breast_cancer_detection\\lib\\site-packages (2.6.0+cu118)\n",
      "Requirement already satisfied: torchvision in c:\\users\\daad1\\anaconda3\\envs\\breast_cancer_detection\\lib\\site-packages (0.21.0)\n",
      "Requirement already satisfied: py4j==0.10.9.7 in c:\\users\\daad1\\anaconda3\\envs\\breast_cancer_detection\\lib\\site-packages (from pyspark) (0.10.9.7)\n",
      "Requirement already satisfied: absl-py>=1.0.0 in c:\\users\\daad1\\appdata\\roaming\\python\\python312\\site-packages (from tensorflow) (2.2.2)\n",
      "Requirement already satisfied: astunparse>=1.6.0 in c:\\users\\daad1\\appdata\\roaming\\python\\python312\\site-packages (from tensorflow) (1.6.3)\n",
      "Requirement already satisfied: flatbuffers>=24.3.25 in c:\\users\\daad1\\appdata\\roaming\\python\\python312\\site-packages (from tensorflow) (25.2.10)\n",
      "Requirement already satisfied: gast!=0.5.0,!=0.5.1,!=0.5.2,>=0.2.1 in c:\\users\\daad1\\appdata\\roaming\\python\\python312\\site-packages (from tensorflow) (0.6.0)\n",
      "Requirement already satisfied: google-pasta>=0.1.1 in c:\\users\\daad1\\appdata\\roaming\\python\\python312\\site-packages (from tensorflow) (0.2.0)\n",
      "Requirement already satisfied: libclang>=13.0.0 in c:\\users\\daad1\\appdata\\roaming\\python\\python312\\site-packages (from tensorflow) (18.1.1)\n",
      "Requirement already satisfied: opt-einsum>=2.3.2 in c:\\users\\daad1\\appdata\\roaming\\python\\python312\\site-packages (from tensorflow) (3.4.0)\n",
      "Requirement already satisfied: packaging in c:\\users\\daad1\\appdata\\roaming\\python\\python312\\site-packages (from tensorflow) (24.2)\n",
      "Requirement already satisfied: protobuf!=4.21.0,!=4.21.1,!=4.21.2,!=4.21.3,!=4.21.4,!=4.21.5,<6.0.0dev,>=3.20.3 in c:\\users\\daad1\\appdata\\roaming\\python\\python312\\site-packages (from tensorflow) (5.29.4)\n",
      "Requirement already satisfied: requests<3,>=2.21.0 in c:\\users\\daad1\\appdata\\roaming\\python\\python312\\site-packages (from tensorflow) (2.32.3)\n",
      "Requirement already satisfied: setuptools in c:\\users\\daad1\\appdata\\roaming\\python\\python312\\site-packages (from tensorflow) (78.1.0)\n",
      "Requirement already satisfied: six>=1.12.0 in c:\\users\\daad1\\appdata\\roaming\\python\\python312\\site-packages (from tensorflow) (1.17.0)\n",
      "Requirement already satisfied: termcolor>=1.1.0 in c:\\users\\daad1\\appdata\\roaming\\python\\python312\\site-packages (from tensorflow) (3.0.1)\n",
      "Requirement already satisfied: typing-extensions>=3.6.6 in c:\\users\\daad1\\appdata\\roaming\\python\\python312\\site-packages (from tensorflow) (4.12.2)\n",
      "Requirement already satisfied: wrapt>=1.11.0 in c:\\users\\daad1\\appdata\\roaming\\python\\python312\\site-packages (from tensorflow) (1.17.2)\n",
      "Requirement already satisfied: grpcio<2.0,>=1.24.3 in c:\\users\\daad1\\appdata\\roaming\\python\\python312\\site-packages (from tensorflow) (1.71.0)\n",
      "Requirement already satisfied: tensorboard~=2.19.0 in c:\\users\\daad1\\appdata\\roaming\\python\\python312\\site-packages (from tensorflow) (2.19.0)\n",
      "Requirement already satisfied: keras>=3.5.0 in c:\\users\\daad1\\appdata\\roaming\\python\\python312\\site-packages (from tensorflow) (3.9.2)\n",
      "Requirement already satisfied: h5py>=3.11.0 in c:\\users\\daad1\\appdata\\roaming\\python\\python312\\site-packages (from tensorflow) (3.13.0)\n",
      "Requirement already satisfied: ml-dtypes<1.0.0,>=0.5.1 in c:\\users\\daad1\\appdata\\roaming\\python\\python312\\site-packages (from tensorflow) (0.5.1)\n",
      "Requirement already satisfied: python-dateutil>=2.8.2 in c:\\users\\daad1\\anaconda3\\envs\\breast_cancer_detection\\lib\\site-packages (from pandas) (2.9.0.post0)\n",
      "Requirement already satisfied: pytz>=2020.1 in c:\\users\\daad1\\anaconda3\\envs\\breast_cancer_detection\\lib\\site-packages (from pandas) (2025.2)\n",
      "Requirement already satisfied: tzdata>=2022.7 in c:\\users\\daad1\\anaconda3\\envs\\breast_cancer_detection\\lib\\site-packages (from pandas) (2025.2)\n",
      "Requirement already satisfied: scipy>=1.6.0 in c:\\users\\daad1\\anaconda3\\envs\\breast_cancer_detection\\lib\\site-packages (from scikit-learn) (1.15.2)\n",
      "Requirement already satisfied: joblib>=1.2.0 in c:\\users\\daad1\\anaconda3\\envs\\breast_cancer_detection\\lib\\site-packages (from scikit-learn) (1.4.2)\n",
      "Requirement already satisfied: threadpoolctl>=3.1.0 in c:\\users\\daad1\\anaconda3\\envs\\breast_cancer_detection\\lib\\site-packages (from scikit-learn) (3.6.0)\n",
      "Requirement already satisfied: pydantic>=2 in c:\\users\\daad1\\anaconda3\\envs\\breast_cancer_detection\\lib\\site-packages (from ydata-profiling) (2.11.3)\n",
      "Requirement already satisfied: PyYAML<6.1,>=5.0.0 in c:\\users\\daad1\\anaconda3\\envs\\breast_cancer_detection\\lib\\site-packages (from ydata-profiling) (6.0.2)\n",
      "Requirement already satisfied: jinja2<3.2,>=2.11.1 in c:\\users\\daad1\\anaconda3\\envs\\breast_cancer_detection\\lib\\site-packages (from ydata-profiling) (3.1.6)\n",
      "Requirement already satisfied: visions<0.8.2,>=0.7.5 in c:\\users\\daad1\\anaconda3\\envs\\breast_cancer_detection\\lib\\site-packages (from visions[type_image_path]<0.8.2,>=0.7.5->ydata-profiling) (0.8.1)\n",
      "Requirement already satisfied: htmlmin==0.1.12 in c:\\users\\daad1\\anaconda3\\envs\\breast_cancer_detection\\lib\\site-packages (from ydata-profiling) (0.1.12)\n",
      "Requirement already satisfied: phik<0.13,>=0.11.1 in c:\\users\\daad1\\anaconda3\\envs\\breast_cancer_detection\\lib\\site-packages (from ydata-profiling) (0.12.4)\n",
      "Requirement already satisfied: tqdm<5,>=4.48.2 in c:\\users\\daad1\\anaconda3\\envs\\breast_cancer_detection\\lib\\site-packages (from ydata-profiling) (4.67.1)\n",
      "Requirement already satisfied: multimethod<2,>=1.4 in c:\\users\\daad1\\anaconda3\\envs\\breast_cancer_detection\\lib\\site-packages (from ydata-profiling) (1.12)\n",
      "Requirement already satisfied: statsmodels<1,>=0.13.2 in c:\\users\\daad1\\anaconda3\\envs\\breast_cancer_detection\\lib\\site-packages (from ydata-profiling) (0.14.4)\n",
      "Requirement already satisfied: typeguard<5,>=3 in c:\\users\\daad1\\anaconda3\\envs\\breast_cancer_detection\\lib\\site-packages (from ydata-profiling) (4.4.2)\n",
      "Requirement already satisfied: imagehash==4.3.1 in c:\\users\\daad1\\anaconda3\\envs\\breast_cancer_detection\\lib\\site-packages (from ydata-profiling) (4.3.1)\n",
      "Requirement already satisfied: wordcloud>=1.9.3 in c:\\users\\daad1\\anaconda3\\envs\\breast_cancer_detection\\lib\\site-packages (from ydata-profiling) (1.9.4)\n",
      "Requirement already satisfied: dacite>=1.8 in c:\\users\\daad1\\anaconda3\\envs\\breast_cancer_detection\\lib\\site-packages (from ydata-profiling) (1.9.2)\n",
      "Requirement already satisfied: numba<=0.61,>=0.56.0 in c:\\users\\daad1\\anaconda3\\envs\\breast_cancer_detection\\lib\\site-packages (from ydata-profiling) (0.61.0)\n",
      "Requirement already satisfied: PyWavelets in c:\\users\\daad1\\anaconda3\\envs\\breast_cancer_detection\\lib\\site-packages (from imagehash==4.3.1->ydata-profiling) (1.8.0)\n",
      "Requirement already satisfied: contourpy>=1.0.1 in c:\\users\\daad1\\anaconda3\\envs\\breast_cancer_detection\\lib\\site-packages (from matplotlib) (1.3.2)\n",
      "Requirement already satisfied: cycler>=0.10 in c:\\users\\daad1\\anaconda3\\envs\\breast_cancer_detection\\lib\\site-packages (from matplotlib) (0.12.1)\n",
      "Requirement already satisfied: fonttools>=4.22.0 in c:\\users\\daad1\\anaconda3\\envs\\breast_cancer_detection\\lib\\site-packages (from matplotlib) (4.57.0)\n",
      "Requirement already satisfied: kiwisolver>=1.3.1 in c:\\users\\daad1\\anaconda3\\envs\\breast_cancer_detection\\lib\\site-packages (from matplotlib) (1.4.8)\n",
      "Requirement already satisfied: pyparsing>=2.3.1 in c:\\users\\daad1\\anaconda3\\envs\\breast_cancer_detection\\lib\\site-packages (from matplotlib) (3.2.3)\n",
      "Requirement already satisfied: networkx>=3.0 in c:\\users\\daad1\\anaconda3\\envs\\breast_cancer_detection\\lib\\site-packages (from scikit-image) (3.4.2)\n",
      "Requirement already satisfied: imageio!=2.35.0,>=2.33 in c:\\users\\daad1\\anaconda3\\envs\\breast_cancer_detection\\lib\\site-packages (from scikit-image) (2.37.0)\n",
      "Requirement already satisfied: tifffile>=2022.8.12 in c:\\users\\daad1\\anaconda3\\envs\\breast_cancer_detection\\lib\\site-packages (from scikit-image) (2025.3.30)\n",
      "Requirement already satisfied: lazy-loader>=0.4 in c:\\users\\daad1\\anaconda3\\envs\\breast_cancer_detection\\lib\\site-packages (from scikit-image) (0.4)\n",
      "Requirement already satisfied: deprecated in c:\\users\\daad1\\anaconda3\\envs\\breast_cancer_detection\\lib\\site-packages (from tf-keras-vis) (1.2.18)\n",
      "Requirement already satisfied: httpx>=0.27.2 in c:\\users\\daad1\\appdata\\roaming\\python\\python312\\site-packages (from httpx[http2]>=0.27.2->googletrans) (0.28.1)\n",
      "Requirement already satisfied: filelock in c:\\users\\daad1\\appdata\\roaming\\python\\python312\\site-packages (from torch) (3.18.0)\n",
      "Requirement already satisfied: fsspec in c:\\users\\daad1\\anaconda3\\envs\\breast_cancer_detection\\lib\\site-packages (from torch) (2025.3.2)\n",
      "Requirement already satisfied: sympy==1.13.1 in c:\\users\\daad1\\anaconda3\\envs\\breast_cancer_detection\\lib\\site-packages (from torch) (1.13.1)\n",
      "Requirement already satisfied: mpmath<1.4,>=1.1.0 in c:\\users\\daad1\\anaconda3\\envs\\breast_cancer_detection\\lib\\site-packages (from sympy==1.13.1->torch) (1.3.0)\n",
      "Requirement already satisfied: wheel<1.0,>=0.23.0 in c:\\users\\daad1\\appdata\\roaming\\python\\python312\\site-packages (from astunparse>=1.6.0->tensorflow) (0.45.1)\n",
      "Requirement already satisfied: anyio in c:\\users\\daad1\\appdata\\roaming\\python\\python312\\site-packages (from httpx>=0.27.2->httpx[http2]>=0.27.2->googletrans) (4.9.0)\n",
      "Requirement already satisfied: certifi in c:\\users\\daad1\\appdata\\roaming\\python\\python312\\site-packages (from httpx>=0.27.2->httpx[http2]>=0.27.2->googletrans) (2025.1.31)\n",
      "Requirement already satisfied: httpcore==1.* in c:\\users\\daad1\\appdata\\roaming\\python\\python312\\site-packages (from httpx>=0.27.2->httpx[http2]>=0.27.2->googletrans) (1.0.7)\n",
      "Requirement already satisfied: idna in c:\\users\\daad1\\appdata\\roaming\\python\\python312\\site-packages (from httpx>=0.27.2->httpx[http2]>=0.27.2->googletrans) (3.10)\n",
      "Requirement already satisfied: h11<0.15,>=0.13 in c:\\users\\daad1\\appdata\\roaming\\python\\python312\\site-packages (from httpcore==1.*->httpx>=0.27.2->httpx[http2]>=0.27.2->googletrans) (0.14.0)\n",
      "Requirement already satisfied: h2<5,>=3 in c:\\users\\daad1\\anaconda3\\envs\\breast_cancer_detection\\lib\\site-packages (from httpx[http2]>=0.27.2->googletrans) (4.2.0)\n",
      "Requirement already satisfied: MarkupSafe>=2.0 in c:\\users\\daad1\\appdata\\roaming\\python\\python312\\site-packages (from jinja2<3.2,>=2.11.1->ydata-profiling) (3.0.2)\n",
      "Requirement already satisfied: rich in c:\\users\\daad1\\appdata\\roaming\\python\\python312\\site-packages (from keras>=3.5.0->tensorflow) (14.0.0)\n",
      "Requirement already satisfied: namex in c:\\users\\daad1\\appdata\\roaming\\python\\python312\\site-packages (from keras>=3.5.0->tensorflow) (0.0.8)\n",
      "Requirement already satisfied: optree in c:\\users\\daad1\\appdata\\roaming\\python\\python312\\site-packages (from keras>=3.5.0->tensorflow) (0.14.1)\n",
      "Requirement already satisfied: llvmlite<0.45,>=0.44.0dev0 in c:\\users\\daad1\\anaconda3\\envs\\breast_cancer_detection\\lib\\site-packages (from numba<=0.61,>=0.56.0->ydata-profiling) (0.44.0)\n",
      "Requirement already satisfied: annotated-types>=0.6.0 in c:\\users\\daad1\\anaconda3\\envs\\breast_cancer_detection\\lib\\site-packages (from pydantic>=2->ydata-profiling) (0.7.0)\n",
      "Requirement already satisfied: pydantic-core==2.33.1 in c:\\users\\daad1\\anaconda3\\envs\\breast_cancer_detection\\lib\\site-packages (from pydantic>=2->ydata-profiling) (2.33.1)\n",
      "Requirement already satisfied: typing-inspection>=0.4.0 in c:\\users\\daad1\\anaconda3\\envs\\breast_cancer_detection\\lib\\site-packages (from pydantic>=2->ydata-profiling) (0.4.0)\n",
      "Requirement already satisfied: charset-normalizer<4,>=2 in c:\\users\\daad1\\appdata\\roaming\\python\\python312\\site-packages (from requests<3,>=2.21.0->tensorflow) (3.4.1)\n",
      "Requirement already satisfied: urllib3<3,>=1.21.1 in c:\\users\\daad1\\appdata\\roaming\\python\\python312\\site-packages (from requests<3,>=2.21.0->tensorflow) (2.3.0)\n",
      "Requirement already satisfied: patsy>=0.5.6 in c:\\users\\daad1\\anaconda3\\envs\\breast_cancer_detection\\lib\\site-packages (from statsmodels<1,>=0.13.2->ydata-profiling) (1.0.1)\n",
      "Requirement already satisfied: markdown>=2.6.8 in c:\\users\\daad1\\appdata\\roaming\\python\\python312\\site-packages (from tensorboard~=2.19.0->tensorflow) (3.7)\n",
      "Requirement already satisfied: tensorboard-data-server<0.8.0,>=0.7.0 in c:\\users\\daad1\\appdata\\roaming\\python\\python312\\site-packages (from tensorboard~=2.19.0->tensorflow) (0.7.2)\n",
      "Requirement already satisfied: werkzeug>=1.0.1 in c:\\users\\daad1\\appdata\\roaming\\python\\python312\\site-packages (from tensorboard~=2.19.0->tensorflow) (3.1.3)\n",
      "Requirement already satisfied: colorama in c:\\users\\daad1\\appdata\\roaming\\python\\python312\\site-packages (from tqdm<5,>=4.48.2->ydata-profiling) (0.4.6)\n",
      "Requirement already satisfied: attrs>=19.3.0 in c:\\users\\daad1\\anaconda3\\envs\\breast_cancer_detection\\lib\\site-packages (from visions<0.8.2,>=0.7.5->visions[type_image_path]<0.8.2,>=0.7.5->ydata-profiling) (24.3.0)\n",
      "Requirement already satisfied: puremagic in c:\\users\\daad1\\anaconda3\\envs\\breast_cancer_detection\\lib\\site-packages (from visions<0.8.2,>=0.7.5->visions[type_image_path]<0.8.2,>=0.7.5->ydata-profiling) (1.28)\n",
      "Requirement already satisfied: hyperframe<7,>=6.1 in c:\\users\\daad1\\anaconda3\\envs\\breast_cancer_detection\\lib\\site-packages (from h2<5,>=3->httpx[http2]>=0.27.2->googletrans) (6.1.0)\n",
      "Requirement already satisfied: hpack<5,>=4.1 in c:\\users\\daad1\\anaconda3\\envs\\breast_cancer_detection\\lib\\site-packages (from h2<5,>=3->httpx[http2]>=0.27.2->googletrans) (4.1.0)\n",
      "Requirement already satisfied: sniffio>=1.1 in c:\\users\\daad1\\appdata\\roaming\\python\\python312\\site-packages (from anyio->httpx>=0.27.2->httpx[http2]>=0.27.2->googletrans) (1.3.1)\n",
      "Requirement already satisfied: markdown-it-py>=2.2.0 in c:\\users\\daad1\\appdata\\roaming\\python\\python312\\site-packages (from rich->keras>=3.5.0->tensorflow) (3.0.0)\n",
      "Requirement already satisfied: pygments<3.0.0,>=2.13.0 in c:\\users\\daad1\\appdata\\roaming\\python\\python312\\site-packages (from rich->keras>=3.5.0->tensorflow) (2.19.1)\n",
      "Requirement already satisfied: mdurl~=0.1 in c:\\users\\daad1\\appdata\\roaming\\python\\python312\\site-packages (from markdown-it-py>=2.2.0->rich->keras>=3.5.0->tensorflow) (0.1.2)\n"
     ]
    },
    {
     "name": "stderr",
     "output_type": "stream",
     "text": [
      "\n",
      "[notice] A new release of pip is available: 25.0.1 -> 25.1.1\n",
      "[notice] To update, run: python.exe -m pip install --upgrade pip\n"
     ]
    }
   ],
   "source": [
    "# Instalando dependencias\n",
    "!pip install pyarrow findspark pyspark tensorflow pandas scikit-learn ydata-profiling matplotlib numpy seaborn opencv-python pillow pydicom scikit-image lime tf-keras-vis xlrd googletrans nest_asyncio torch torchvision numpy"
   ]
  },
  {
   "cell_type": "markdown",
   "id": "7240d3b3-cf76-4bfa-b06f-29b9a34842d0",
   "metadata": {},
   "source": [
    "# Inicializacion"
   ]
  },
  {
   "cell_type": "code",
   "execution_count": 3,
   "id": "58e2e74d-abdf-40b3-b11b-164187c79c04",
   "metadata": {},
   "outputs": [],
   "source": [
    "import sys\n",
    "from pathlib import Path\n",
    "\n",
    "# Force add the project root to sys.path (adjust as needed)\n",
    "project_root = Path(\"../\").resolve()  # one level up from /notebooks/\n",
    "if str(project_root) not in sys.path:\n",
    "    sys.path.insert(0, str(project_root))"
   ]
  },
  {
   "cell_type": "code",
   "execution_count": 4,
   "id": "17f28c92-ea80-4a2d-b38b-4e8406541753",
   "metadata": {},
   "outputs": [
    {
     "data": {
      "text/html": [
       "\n",
       "            <div>\n",
       "                <ins><a href=\"https://ydata.ai/register\">Upgrade to ydata-sdk</a></ins>\n",
       "                <p>\n",
       "                    Improve your data and profiling with ydata-sdk, featuring data quality scoring, redundancy detection, outlier identification, text validation, and synthetic data generation.\n",
       "                </p>\n",
       "            </div>\n",
       "            "
      ],
      "text/plain": [
       "<IPython.core.display.HTML object>"
      ]
     },
     "metadata": {},
     "output_type": "display_data"
    }
   ],
   "source": [
    "# Calculos\n",
    "import numpy as np\n",
    "import pandas as pd\n",
    "\n",
    "# PyTorch\n",
    "import torch\n",
    "\n",
    "# Visualizacion\n",
    "from ydata_profiling import ProfileReport\n",
    "\n",
    "# Utilidades\n",
    "import os\n",
    "import re"
   ]
  },
  {
   "cell_type": "markdown",
   "id": "a1e4b5f7-0036-402e-b3ce-63e3da13a150",
   "metadata": {},
   "source": [
    "## Constantes"
   ]
  },
  {
   "cell_type": "code",
   "execution_count": 5,
   "id": "7adaf8d7-f5ba-431f-a054-fab16214010d",
   "metadata": {},
   "outputs": [],
   "source": [
    "DATA_ABS_PATH                   = os.path.abspath(\"../data/CBIS-DDSM\")\n",
    "IMAGES_ABS_PATH                 = os.path.abspath(\"../data/CBIS-DDSM/CBIS-DDSM\")\n",
    "MASS_CASE_DESCRIPTION_TRAIN_SET = DATA_ABS_PATH + '/mass_case_description_train_set.csv'\n",
    "MASS_CASE_DESCRIPTION_TEST_SET  = DATA_ABS_PATH + '/mass_case_description_test_set.csv'\n",
    "CALC_CASE_DESCRIPTION_TRAIN_SET = DATA_ABS_PATH + '/calc_case_description_train_set.csv'\n",
    "CALC_CASE_DESCRIPTION_TEST_SET  = DATA_ABS_PATH + '/calc_case_description_test_set.csv'\n",
    "METADATA_CSV                    = DATA_ABS_PATH + '/metadata.csv'\n",
    "\n",
    "CBISDDSM_DF                     = DATA_ABS_PATH + '/meta/CBIS-DDSM.parquet'\n",
    "CBISDDSM_FIXED_SET              = DATA_ABS_PATH + '/meta/CBIS-DDSM-fixed.parquet'\n",
    "OUTPUT_TRAIN                    = DATA_ABS_PATH + '/meta/train_split.parquet'\n",
    "OUTPUT_VAL                      = DATA_ABS_PATH + '/meta/val_split.parquet'\n",
    "OUTPUT_TEST                     = DATA_ABS_PATH + '/meta/test_split.parquet'\n",
    "\n",
    "MODELS_OUTPUT_PATH              = os.path.abspath(\"../models/output/\")\n",
    "MODELS_LOGS_OUTPUT_PATH         = os.path.abspath(\"../models/logs/\")\n",
    "\n",
    "LABEL_MAP = {\n",
    "    \"BENIGN\": 0,\n",
    "    \"BENIGN_WITHOUT_CALLBACK\": 1, # Benigno sin necesidad de mas estudios\n",
    "    \"MALIGNANT\": 2\n",
    "}"
   ]
  },
  {
   "cell_type": "markdown",
   "id": "2924a94e-012a-4a23-be6c-dc5c43ad3503",
   "metadata": {},
   "source": [
    "## Sesion de Spark"
   ]
  },
  {
   "cell_type": "code",
   "execution_count": 6,
   "id": "95353f51-4b37-4e37-8eb7-0a7906e72426",
   "metadata": {},
   "outputs": [
    {
     "data": {
      "text/html": [
       "\n",
       "            <div>\n",
       "                <p><b>SparkSession - in-memory</b></p>\n",
       "                \n",
       "        <div>\n",
       "            <p><b>SparkContext</b></p>\n",
       "\n",
       "            <p><a href=\"http://Daniel.mshome.net:4040\">Spark UI</a></p>\n",
       "\n",
       "            <dl>\n",
       "              <dt>Version</dt>\n",
       "                <dd><code>v3.4.4</code></dd>\n",
       "              <dt>Master</dt>\n",
       "                <dd><code>local[*]</code></dd>\n",
       "              <dt>AppName</dt>\n",
       "                <dd><code>pyspark-shell</code></dd>\n",
       "            </dl>\n",
       "        </div>\n",
       "        \n",
       "            </div>\n",
       "        "
      ],
      "text/plain": [
       "<pyspark.sql.session.SparkSession at 0x23dfc3db890>"
      ]
     },
     "execution_count": 6,
     "metadata": {},
     "output_type": "execute_result"
    }
   ],
   "source": [
    "import findspark\n",
    "\n",
    "from pyspark.sql import SparkSession\n",
    "from pyspark.sql import SQLContext\n",
    "import pyspark.sql.functions as F\n",
    "from pyspark.sql.functions import udf\n",
    "from pyspark.sql.types import StringType, BooleanType\n",
    "\n",
    "\n",
    "findspark.init()\n",
    "spark = SparkSession.builder.master(\"local[*]\").getOrCreate()\n",
    "spark = SparkSession.builder.appName(\"breast_cancer_detection\").master(\"local[*]\").getOrCreate()\n",
    "sqlCtx = SQLContext(sparkContext=spark.sparkContext, sparkSession=spark)\n",
    "spark"
   ]
  },
  {
   "cell_type": "markdown",
   "id": "2987bcd3-5394-4e9a-89bb-fecefe8d2518",
   "metadata": {},
   "source": [
    "### Creacion de DataFrames"
   ]
  },
  {
   "cell_type": "code",
   "execution_count": 7,
   "id": "036f4b62-966c-4ff6-b079-a3b47fa47fee",
   "metadata": {},
   "outputs": [
    {
     "data": {
      "text/plain": [
       "DataFrame[summary: string, Series UID: string, Collection: string, 3rd Party Analysis: string, Data Description URI: string, Subject ID: string, Study UID: string, Study Description: string, Study Date: string, Series Description: string, Manufacturer: string, Modality: string, SOP Class Name: string, SOP Class UID: string, Number of Images: string, File Size: string, File Size float: string, File Location: string, Download Timestamp: string]"
      ]
     },
     "execution_count": 7,
     "metadata": {},
     "output_type": "execute_result"
    }
   ],
   "source": [
    "metadata_df = spark.read.csv(METADATA_CSV, header=True)\n",
    "metadata_df.describe()"
   ]
  },
  {
   "cell_type": "code",
   "execution_count": 8,
   "id": "1d301993-a258-4807-976a-9eb9aa3245ef",
   "metadata": {},
   "outputs": [
    {
     "data": {
      "text/plain": [
       "DataFrame[summary: string, patient_id: string, breast_density: string, left or right breast: string, image view: string, abnormality id: string, abnormality type: string, mass shape: string, mass margins: string, assessment: string, pathology: string, subtlety: string, image file path: string, cropped image file path: string, ROI mask file path: string]"
      ]
     },
     "execution_count": 8,
     "metadata": {},
     "output_type": "execute_result"
    }
   ],
   "source": [
    "mass_train_df = spark.read.csv(MASS_CASE_DESCRIPTION_TRAIN_SET, header=True, inferSchema=True, multiLine=True, quote='\"', escape='\"')\n",
    "mass_train_df.describe()"
   ]
  },
  {
   "cell_type": "code",
   "execution_count": 9,
   "id": "e168c4a7-7d27-4aea-acf8-02d6c75fc0b8",
   "metadata": {},
   "outputs": [
    {
     "data": {
      "text/plain": [
       "DataFrame[summary: string, patient_id: string, breast_density: string, left or right breast: string, image view: string, abnormality id: string, abnormality type: string, mass shape: string, mass margins: string, assessment: string, pathology: string, subtlety: string, image file path: string, cropped image file path: string, ROI mask file path: string]"
      ]
     },
     "execution_count": 9,
     "metadata": {},
     "output_type": "execute_result"
    }
   ],
   "source": [
    "mass_test_df = spark.read.csv(MASS_CASE_DESCRIPTION_TEST_SET, header=True, inferSchema=True, multiLine=True, quote='\"', escape='\"')\n",
    "mass_test_df.describe()"
   ]
  },
  {
   "cell_type": "code",
   "execution_count": 10,
   "id": "11fc8b79-afbc-4878-b79b-013631c45836",
   "metadata": {},
   "outputs": [
    {
     "data": {
      "text/plain": [
       "DataFrame[summary: string, patient_id: string, breast density: string, left or right breast: string, image view: string, abnormality id: string, abnormality type: string, calc type: string, calc distribution: string, assessment: string, pathology: string, subtlety: string, image file path: string, cropped image file path: string, ROI mask file path: string]"
      ]
     },
     "execution_count": 10,
     "metadata": {},
     "output_type": "execute_result"
    }
   ],
   "source": [
    "calc_train_df = spark.read.csv(CALC_CASE_DESCRIPTION_TRAIN_SET, header=True, inferSchema=True, multiLine=True, quote='\"', escape='\"')\n",
    "calc_train_df.describe()"
   ]
  },
  {
   "cell_type": "code",
   "execution_count": 11,
   "id": "37411077-3fa5-406c-9499-590e887feec0",
   "metadata": {},
   "outputs": [
    {
     "data": {
      "text/plain": [
       "DataFrame[summary: string, patient_id: string, breast density: string, left or right breast: string, image view: string, abnormality id: string, abnormality type: string, calc type: string, calc distribution: string, assessment: string, pathology: string, subtlety: string, image file path: string, cropped image file path: string, ROI mask file path: string]"
      ]
     },
     "execution_count": 11,
     "metadata": {},
     "output_type": "execute_result"
    }
   ],
   "source": [
    "calc_test_df = spark.read.csv(CALC_CASE_DESCRIPTION_TEST_SET, header=True, inferSchema=True, multiLine=True, quote='\"', escape='\"')\n",
    "calc_test_df.describe()"
   ]
  },
  {
   "cell_type": "markdown",
   "id": "5fa82540-bf85-4692-ba40-fe237e8dc68f",
   "metadata": {},
   "source": [
    "**Nota**: Hay algunas columnas que tienen caracteres especiales, como saltos de linea. Como la columna con la direccion del ROI:"
   ]
  },
  {
   "cell_type": "code",
   "execution_count": 12,
   "id": "eb6fad62-f6cd-459e-8cdd-920357a70c98",
   "metadata": {},
   "outputs": [
    {
     "name": "stdout",
     "output_type": "stream",
     "text": [
      "+----------+--------------+--------------------+----------+--------------+----------------+--------------------+-----------------+----------+---------+--------+-----------------------------------------------------------------------------------------------------------------------------------------------------------------------+--------------------------------------------------------------------------------------------------------------------------------------------------------------------------+------------------------------------------------------------------------------------------------------------------------------------------------------------------------+\n",
      "|patient_id|breast density|left or right breast|image view|abnormality id|abnormality type|calc type           |calc distribution|assessment|pathology|subtlety|image file path                                                                                                                                                        |cropped image file path                                                                                                                                                   |ROI mask file path                                                                                                                                                      |\n",
      "+----------+--------------+--------------------+----------+--------------+----------------+--------------------+-----------------+----------+---------+--------+-----------------------------------------------------------------------------------------------------------------------------------------------------------------------+--------------------------------------------------------------------------------------------------------------------------------------------------------------------------+------------------------------------------------------------------------------------------------------------------------------------------------------------------------+\n",
      "|P_00038   |2             |LEFT                |CC        |1             |calcification   |PUNCTATE-PLEOMORPHIC|CLUSTERED        |4         |BENIGN   |2       |Calc-Test_P_00038_LEFT_CC/1.3.6.1.4.1.9590.100.1.2.85935434310203356712688695661986996009/1.3.6.1.4.1.9590.100.1.2.374115997511889073021386151921807063992/000000.dcm  |Calc-Test_P_00038_LEFT_CC_1/1.3.6.1.4.1.9590.100.1.2.161465562211359959230647609981488894942/1.3.6.1.4.1.9590.100.1.2.419081637812053404913157930753972718515/000001.dcm\\n|Calc-Test_P_00038_LEFT_CC_1/1.3.6.1.4.1.9590.100.1.2.161465562211359959230647609981488894942/1.3.6.1.4.1.9590.100.1.2.419081637812053404913157930753972718515/000000.dcm|\n",
      "|P_00038   |2             |LEFT                |MLO       |1             |calcification   |PUNCTATE-PLEOMORPHIC|CLUSTERED        |4         |BENIGN   |2       |Calc-Test_P_00038_LEFT_MLO/1.3.6.1.4.1.9590.100.1.2.384159464510350889125645400702639717613/1.3.6.1.4.1.9590.100.1.2.174390361112646747718661211471328897934/000000.dcm|Calc-Test_P_00038_LEFT_MLO_1/1.3.6.1.4.1.9590.100.1.2.29112199613143138535387754440942211739/1.3.6.1.4.1.9590.100.1.2.188613955710170417803011787532523988680/000001.dcm\\n|Calc-Test_P_00038_LEFT_MLO_1/1.3.6.1.4.1.9590.100.1.2.29112199613143138535387754440942211739/1.3.6.1.4.1.9590.100.1.2.188613955710170417803011787532523988680/000000.dcm|\n",
      "+----------+--------------+--------------------+----------+--------------+----------------+--------------------+-----------------+----------+---------+--------+-----------------------------------------------------------------------------------------------------------------------------------------------------------------------+--------------------------------------------------------------------------------------------------------------------------------------------------------------------------+------------------------------------------------------------------------------------------------------------------------------------------------------------------------+\n",
      "only showing top 2 rows\n",
      "\n"
     ]
    }
   ],
   "source": [
    "calc_test_df.show(2, truncate=False)"
   ]
  },
  {
   "cell_type": "markdown",
   "id": "59310a37-9f64-46b0-aa6d-3b87300c7105",
   "metadata": {},
   "source": [
    "Ahora reemplazare los nombres erroneos de las imagenes (000000.dcm) por su nombre real, segun el siguiente patron:\n",
    "\n",
    "- **image file path**: Aparece con nombre de archivo 000000.dcm, pero todas se llama 1-1.dcm\n",
    "- **cropped image file path**: Aparece con nombre de archivo 000000.dcm, pero todas se llaman 1-1.dcm y se encuentran en las carpetas con el sufijo _1 (ejemplo: CC_1, MLO_1, etc.)\n",
    "- **ROI mak file path**: Aparece con nombre de archivo 000000.dcm, pero todas se llaman 1-2.dcm y se encuentra en las carpetas con el sufijo _1"
   ]
  },
  {
   "cell_type": "code",
   "execution_count": 13,
   "id": "10904bc1-ef77-4805-88d7-1cf4739dbbd5",
   "metadata": {},
   "outputs": [],
   "source": [
    "mass_train_df = mass_train_df \\\n",
    "                .withColumn(\"image_path\", F.regexp_replace(\"image file path\", r\"/[^/]+$\", \"/1-1.dcm\")) \\\n",
    "                .withColumn(\"cropped_path\", F.regexp_replace(\"cropped image file path\", r\"/[^/]+$\", \"/1-1.dcm\")) \\\n",
    "                .withColumn(\"roi_path\", F.regexp_replace(\"ROI mask file path\", r\"/[^/]+$\", \"/1-1.dcm\")) \\\n",
    "                .withColumn(\"type\", F.lit(\"mass\"))"
   ]
  },
  {
   "cell_type": "code",
   "execution_count": 14,
   "id": "1c1edce3-aaf8-4139-a742-95ce097c646e",
   "metadata": {},
   "outputs": [],
   "source": [
    "mass_test_df = mass_test_df \\\n",
    "                .withColumn(\"image_path\", F.regexp_replace(\"image file path\", r\"/[^/]+$\", \"/1-1.dcm\")) \\\n",
    "                .withColumn(\"cropped_path\", F.regexp_replace(\"cropped image file path\", r\"/[^/]+$\", \"/1-1.dcm\")) \\\n",
    "                .withColumn(\"roi_path\", F.regexp_replace(\"ROI mask file path\", r\"/[^/]+$\", \"/1-2.dcm\")) \\\n",
    "                .withColumn(\"type\", F.lit(\"mass\"))"
   ]
  },
  {
   "cell_type": "code",
   "execution_count": 15,
   "id": "1bda0b28-2745-4458-b15e-43f1eaf11945",
   "metadata": {},
   "outputs": [],
   "source": [
    "calc_train_df = calc_train_df \\\n",
    "                .withColumn(\"image_path\", F.regexp_replace(\"image file path\", r\"/[^/]+$\", \"/1-1.dcm\")) \\\n",
    "                .withColumn(\"cropped_path\", F.regexp_replace(\"cropped image file path\", r\"/[^/]+$\", \"/1-1.dcm\")) \\\n",
    "                .withColumn(\"roi_path\", F.regexp_replace(\"ROI mask file path\", r\"/[^/]+$\", \"/1-2.dcm\")) \\\n",
    "                .withColumn(\"type\", F.lit(\"calc\")) \\\n",
    "                .withColumnRenamed(\"breast density\", \"breast_density\")"
   ]
  },
  {
   "cell_type": "code",
   "execution_count": 16,
   "id": "3aa7bf9f-7730-46fc-9b1f-aa37f5a0676f",
   "metadata": {},
   "outputs": [],
   "source": [
    "calc_test_df = calc_test_df \\\n",
    "                .withColumn(\"image_path\", F.regexp_replace(\"image file path\", r\"/[^/]+$\", \"/1-1.dcm\")) \\\n",
    "                .withColumn(\"cropped_path\", F.regexp_replace(\"cropped image file path\", r\"/[^/]+$\", \"/1-1.dcm\")) \\\n",
    "                .withColumn(\"roi_path\", F.regexp_replace(\"ROI mask file path\", r\"/[^/]+$\", \"/1-2.dcm\")) \\\n",
    "                .withColumn(\"type\", F.lit(\"calc\")) \\\n",
    "                .withColumnRenamed(\"breast density\", \"breast_density\")"
   ]
  },
  {
   "cell_type": "code",
   "execution_count": 17,
   "id": "898fa818-d66a-46e8-8ba3-5ec58a903153",
   "metadata": {},
   "outputs": [
    {
     "data": {
      "text/plain": [
       "1318"
      ]
     },
     "execution_count": 17,
     "metadata": {},
     "output_type": "execute_result"
    }
   ],
   "source": [
    "mass_train_df.filter(F.col('image_path').isNotNull()).count()"
   ]
  },
  {
   "cell_type": "code",
   "execution_count": 18,
   "id": "b4b7bd14-668e-4d59-8665-69ac8db995b3",
   "metadata": {},
   "outputs": [
    {
     "name": "stdout",
     "output_type": "stream",
     "text": [
      "+----------+\n",
      "|patient_id|\n",
      "+----------+\n",
      "|P_00001   |\n",
      "|P_00001   |\n",
      "|P_00004   |\n",
      "|P_00004   |\n",
      "|P_00004   |\n",
      "+----------+\n",
      "only showing top 5 rows\n",
      "\n"
     ]
    }
   ],
   "source": [
    "mass_train_df.select(F.col('patient_id')).show(5, truncate=False)"
   ]
  },
  {
   "cell_type": "code",
   "execution_count": 19,
   "id": "8b3506c6-2887-48c8-bfae-f91a38adab07",
   "metadata": {},
   "outputs": [
    {
     "name": "stdout",
     "output_type": "stream",
     "text": [
      "mass_train_df image_path null count: 1318\n",
      "mass_train_df cropped_path null count: 1318\n",
      "mass_train_df roi_path null count: 1318\n",
      "\n",
      "mass_test_df image_path null count: 378\n",
      "mass_test_df cropped_path null count: 378\n",
      "mass_test_df roi_path null count: 378\n",
      "\n",
      "calc_train_df image_path null count: 1546\n",
      "calc_train_df cropped_path null count: 1546\n",
      "calc_train_df roi_path null count: 1546\n",
      "\n",
      "calc_test_df cropped_path null count: 326\n",
      "calc_test_df image_path null count: 326\n",
      "calc_test_df roi_path null count: 326\n"
     ]
    }
   ],
   "source": [
    "print('mass_train_df image_path null count:', mass_train_df.filter(F.col('image_path').isNotNull()).count())\n",
    "print('mass_train_df cropped_path null count:', mass_train_df.filter(F.col('cropped_path').isNotNull()).count())\n",
    "print('mass_train_df roi_path null count:', mass_train_df.filter(F.col('roi_path').isNotNull()).count())\n",
    "print()\n",
    "print('mass_test_df image_path null count:', mass_test_df.filter(F.col('image_path').isNotNull()).count())\n",
    "print('mass_test_df cropped_path null count:', mass_test_df.filter(F.col('cropped_path').isNotNull()).count())\n",
    "print('mass_test_df roi_path null count:', mass_test_df.filter(F.col('roi_path').isNotNull()).count())\n",
    "print()\n",
    "print('calc_train_df image_path null count:', calc_train_df.filter(F.col('image_path').isNotNull()).count())\n",
    "print('calc_train_df cropped_path null count:', calc_train_df.filter(F.col('cropped_path').isNotNull()).count())\n",
    "print('calc_train_df roi_path null count:', calc_train_df.filter(F.col('roi_path').isNotNull()).count())\n",
    "print()\n",
    "print('calc_test_df cropped_path null count:', calc_test_df.filter(F.col('cropped_path').isNotNull()).count())\n",
    "print('calc_test_df image_path null count:', calc_test_df.filter(F.col('image_path').isNotNull()).count())\n",
    "print('calc_test_df roi_path null count:', calc_test_df.filter(F.col('roi_path').isNotNull()).count())"
   ]
  },
  {
   "cell_type": "code",
   "execution_count": 20,
   "id": "3dae092a-211f-4b55-a99f-81cd943aa110",
   "metadata": {},
   "outputs": [
    {
     "data": {
      "text/plain": [
       "1318"
      ]
     },
     "execution_count": 20,
     "metadata": {},
     "output_type": "execute_result"
    }
   ],
   "source": [
    "mass_train_df.filter(F.col('cropped_path').isNotNull()).count()"
   ]
  },
  {
   "cell_type": "code",
   "execution_count": 21,
   "id": "a2cd248c-3e1e-4b72-93ec-3250b25cab2e",
   "metadata": {},
   "outputs": [
    {
     "data": {
      "text/plain": [
       "1318"
      ]
     },
     "execution_count": 21,
     "metadata": {},
     "output_type": "execute_result"
    }
   ],
   "source": [
    "mass_train_df.filter(F.col('roi_path').isNotNull()).count()"
   ]
  },
  {
   "cell_type": "code",
   "execution_count": 22,
   "id": "4d59140e-8c07-4349-89cc-231097e8945a",
   "metadata": {},
   "outputs": [
    {
     "name": "stdout",
     "output_type": "stream",
     "text": [
      "+--------------------------------------------------------------------------------------------------------------------------------------------------------------------------+\n",
      "|roi_path                                                                                                                                                                  |\n",
      "+--------------------------------------------------------------------------------------------------------------------------------------------------------------------------+\n",
      "|Mass-Training_P_00001_LEFT_CC_1/1.3.6.1.4.1.9590.100.1.2.108268213011361124203859148071588939106/1.3.6.1.4.1.9590.100.1.2.296736403313792599626368780122205399650/1-1.dcm |\n",
      "|Mass-Training_P_00001_LEFT_MLO_1/1.3.6.1.4.1.9590.100.1.2.188473874511440575807446266233629582526/1.3.6.1.4.1.9590.100.1.2.227955274711225756835838775062793186053/1-1.dcm|\n",
      "|Mass-Training_P_00004_LEFT_CC_1/1.3.6.1.4.1.9590.100.1.2.414182170112396175925115449620455230167/1.3.6.1.4.1.9590.100.1.2.429120414011832984817094399141838850375/1-1.dcm |\n",
      "|Mass-Training_P_00004_LEFT_MLO_1/1.3.6.1.4.1.9590.100.1.2.342549219112801262604988012930063078769/1.3.6.1.4.1.9590.100.1.2.115134232113001553100559896703407510515/1-1.dcm|\n",
      "+--------------------------------------------------------------------------------------------------------------------------------------------------------------------------+\n",
      "only showing top 4 rows\n",
      "\n"
     ]
    }
   ],
   "source": [
    "mass_train_df.select(F.col('roi_path')).show(4, truncate=False)"
   ]
  },
  {
   "cell_type": "code",
   "execution_count": 23,
   "id": "16ace631-04c0-4cde-b9d8-f606bea3113d",
   "metadata": {},
   "outputs": [],
   "source": [
    "mass_train_df.write.mode(\"overwrite\").parquet(DATA_ABS_PATH + '/meta/mass_train.parquet')\n",
    "mass_test_df.write.mode(\"overwrite\").parquet(DATA_ABS_PATH + '/meta/mass_test.parquet')\n",
    "calc_train_df.write.mode(\"overwrite\").parquet(DATA_ABS_PATH + '/meta/calc_train.parquet')\n",
    "calc_test_df.write.mode(\"overwrite\").parquet(DATA_ABS_PATH + '/meta/calc_test.parquet')"
   ]
  },
  {
   "cell_type": "markdown",
   "id": "49a9da2c-ccd1-479c-9e68-1f9d4de05ebb",
   "metadata": {},
   "source": [
    "# Creacion de Train y Test datasets\n",
    "\n",
    "Ahora combinare los datasets de test y de train para tener dos unicos datasets para cada fin, asi el modelo aprende tanto de masas como de calcificaciones y si son benignas o malignas."
   ]
  },
  {
   "cell_type": "code",
   "execution_count": 24,
   "id": "e5828f2f-48cf-4e01-a06c-360f7706face",
   "metadata": {},
   "outputs": [],
   "source": [
    "train_df = mass_train_df.unionByName(calc_train_df, allowMissingColumns=True)\n",
    "test_df = mass_test_df.unionByName(calc_test_df,  allowMissingColumns=True)"
   ]
  },
  {
   "cell_type": "code",
   "execution_count": 25,
   "id": "3bc9fa58-4df0-4d3e-a819-199b043c4b8d",
   "metadata": {},
   "outputs": [
    {
     "data": {
      "text/plain": [
       "2864"
      ]
     },
     "execution_count": 25,
     "metadata": {},
     "output_type": "execute_result"
    }
   ],
   "source": [
    "train_df.count()"
   ]
  },
  {
   "cell_type": "code",
   "execution_count": 26,
   "id": "21bc74e9-dc9e-4d9a-a85d-078b11c62c4b",
   "metadata": {},
   "outputs": [
    {
     "data": {
      "text/plain": [
       "2864"
      ]
     },
     "execution_count": 26,
     "metadata": {},
     "output_type": "execute_result"
    }
   ],
   "source": [
    "train_df.filter(F.col('image_path').isNotNull()).count()"
   ]
  },
  {
   "cell_type": "code",
   "execution_count": 27,
   "id": "379953fd-7412-4b21-bf69-9f7b550942f2",
   "metadata": {},
   "outputs": [
    {
     "data": {
      "text/plain": [
       "DataFrame[summary: string, patient_id: string, breast_density: string, left or right breast: string, image view: string, abnormality id: string, abnormality type: string, mass shape: string, mass margins: string, assessment: string, pathology: string, subtlety: string, image file path: string, cropped image file path: string, ROI mask file path: string, image_path: string, cropped_path: string, roi_path: string, type: string, calc type: string, calc distribution: string]"
      ]
     },
     "execution_count": 27,
     "metadata": {},
     "output_type": "execute_result"
    }
   ],
   "source": [
    "train_df.describe()"
   ]
  },
  {
   "cell_type": "code",
   "execution_count": 28,
   "id": "d7645939-285e-48ed-9e59-cbbcb2bdd429",
   "metadata": {},
   "outputs": [
    {
     "name": "stdout",
     "output_type": "stream",
     "text": [
      "+----------+--------------+--------------------+----------+--------------+----------------+----------------------------------+-------------+----------+---------+--------+----------------------------------------------------------------------------------------------------------------------------------------------------------------------------+-----------------------------------------------------------------------------------------------------------------------------------------------------------------------------+-------------------------------------------------------------------------------------------------------------------------------------------------------------------------------+-------------------------------------------------------------------------------------------------------------------------------------------------------------------------+--------------------------------------------------------------------------------------------------------------------------------------------------------------------------+--------------------------------------------------------------------------------------------------------------------------------------------------------------------------+----+---------+-----------------+\n",
      "|patient_id|breast_density|left or right breast|image view|abnormality id|abnormality type|mass shape                        |mass margins |assessment|pathology|subtlety|image file path                                                                                                                                                             |cropped image file path                                                                                                                                                      |ROI mask file path                                                                                                                                                             |image_path                                                                                                                                                               |cropped_path                                                                                                                                                              |roi_path                                                                                                                                                                  |type|calc type|calc distribution|\n",
      "+----------+--------------+--------------------+----------+--------------+----------------+----------------------------------+-------------+----------+---------+--------+----------------------------------------------------------------------------------------------------------------------------------------------------------------------------+-----------------------------------------------------------------------------------------------------------------------------------------------------------------------------+-------------------------------------------------------------------------------------------------------------------------------------------------------------------------------+-------------------------------------------------------------------------------------------------------------------------------------------------------------------------+--------------------------------------------------------------------------------------------------------------------------------------------------------------------------+--------------------------------------------------------------------------------------------------------------------------------------------------------------------------+----+---------+-----------------+\n",
      "|P_00001   |3             |LEFT                |CC        |1             |mass            |IRREGULAR-ARCHITECTURAL_DISTORTION|SPICULATED   |4         |MALIGNANT|4       |Mass-Training_P_00001_LEFT_CC/1.3.6.1.4.1.9590.100.1.2.422112722213189649807611434612228974994/1.3.6.1.4.1.9590.100.1.2.342386194811267636608694132590482924515/000000.dcm  |Mass-Training_P_00001_LEFT_CC_1/1.3.6.1.4.1.9590.100.1.2.108268213011361124203859148071588939106/1.3.6.1.4.1.9590.100.1.2.296736403313792599626368780122205399650/000000.dcm |Mass-Training_P_00001_LEFT_CC_1/1.3.6.1.4.1.9590.100.1.2.108268213011361124203859148071588939106/1.3.6.1.4.1.9590.100.1.2.296736403313792599626368780122205399650/000001.dcm\\n |Mass-Training_P_00001_LEFT_CC/1.3.6.1.4.1.9590.100.1.2.422112722213189649807611434612228974994/1.3.6.1.4.1.9590.100.1.2.342386194811267636608694132590482924515/1-1.dcm  |Mass-Training_P_00001_LEFT_CC_1/1.3.6.1.4.1.9590.100.1.2.108268213011361124203859148071588939106/1.3.6.1.4.1.9590.100.1.2.296736403313792599626368780122205399650/1-1.dcm |Mass-Training_P_00001_LEFT_CC_1/1.3.6.1.4.1.9590.100.1.2.108268213011361124203859148071588939106/1.3.6.1.4.1.9590.100.1.2.296736403313792599626368780122205399650/1-1.dcm |mass|null     |null             |\n",
      "|P_00001   |3             |LEFT                |MLO       |1             |mass            |IRREGULAR-ARCHITECTURAL_DISTORTION|SPICULATED   |4         |MALIGNANT|4       |Mass-Training_P_00001_LEFT_MLO/1.3.6.1.4.1.9590.100.1.2.319478999311971442426185353560182990988/1.3.6.1.4.1.9590.100.1.2.359308329312397897125630708681441180834/000000.dcm |Mass-Training_P_00001_LEFT_MLO_1/1.3.6.1.4.1.9590.100.1.2.188473874511440575807446266233629582526/1.3.6.1.4.1.9590.100.1.2.227955274711225756835838775062793186053/000000.dcm|Mass-Training_P_00001_LEFT_MLO_1/1.3.6.1.4.1.9590.100.1.2.188473874511440575807446266233629582526/1.3.6.1.4.1.9590.100.1.2.227955274711225756835838775062793186053/000001.dcm\\n|Mass-Training_P_00001_LEFT_MLO/1.3.6.1.4.1.9590.100.1.2.319478999311971442426185353560182990988/1.3.6.1.4.1.9590.100.1.2.359308329312397897125630708681441180834/1-1.dcm |Mass-Training_P_00001_LEFT_MLO_1/1.3.6.1.4.1.9590.100.1.2.188473874511440575807446266233629582526/1.3.6.1.4.1.9590.100.1.2.227955274711225756835838775062793186053/1-1.dcm|Mass-Training_P_00001_LEFT_MLO_1/1.3.6.1.4.1.9590.100.1.2.188473874511440575807446266233629582526/1.3.6.1.4.1.9590.100.1.2.227955274711225756835838775062793186053/1-1.dcm|mass|null     |null             |\n",
      "|P_00004   |3             |LEFT                |CC        |1             |mass            |ARCHITECTURAL_DISTORTION          |ILL_DEFINED  |4         |BENIGN   |3       |Mass-Training_P_00004_LEFT_CC/1.3.6.1.4.1.9590.100.1.2.347107867812656628709864319310977895697/1.3.6.1.4.1.9590.100.1.2.89180046211022531834352631483669346540/000000.dcm   |Mass-Training_P_00004_LEFT_CC_1/1.3.6.1.4.1.9590.100.1.2.414182170112396175925115449620455230167/1.3.6.1.4.1.9590.100.1.2.429120414011832984817094399141838850375/000000.dcm |Mass-Training_P_00004_LEFT_CC_1/1.3.6.1.4.1.9590.100.1.2.414182170112396175925115449620455230167/1.3.6.1.4.1.9590.100.1.2.429120414011832984817094399141838850375/000001.dcm\\n |Mass-Training_P_00004_LEFT_CC/1.3.6.1.4.1.9590.100.1.2.347107867812656628709864319310977895697/1.3.6.1.4.1.9590.100.1.2.89180046211022531834352631483669346540/1-1.dcm   |Mass-Training_P_00004_LEFT_CC_1/1.3.6.1.4.1.9590.100.1.2.414182170112396175925115449620455230167/1.3.6.1.4.1.9590.100.1.2.429120414011832984817094399141838850375/1-1.dcm |Mass-Training_P_00004_LEFT_CC_1/1.3.6.1.4.1.9590.100.1.2.414182170112396175925115449620455230167/1.3.6.1.4.1.9590.100.1.2.429120414011832984817094399141838850375/1-1.dcm |mass|null     |null             |\n",
      "|P_00004   |3             |LEFT                |MLO       |1             |mass            |ARCHITECTURAL_DISTORTION          |ILL_DEFINED  |4         |BENIGN   |3       |Mass-Training_P_00004_LEFT_MLO/1.3.6.1.4.1.9590.100.1.2.272600286511817402806912403581910920939/1.3.6.1.4.1.9590.100.1.2.295360926313492745441868049270168300162/000000.dcm |Mass-Training_P_00004_LEFT_MLO_1/1.3.6.1.4.1.9590.100.1.2.342549219112801262604988012930063078769/1.3.6.1.4.1.9590.100.1.2.115134232113001553100559896703407510515/000000.dcm|Mass-Training_P_00004_LEFT_MLO_1/1.3.6.1.4.1.9590.100.1.2.342549219112801262604988012930063078769/1.3.6.1.4.1.9590.100.1.2.115134232113001553100559896703407510515/000001.dcm\\n|Mass-Training_P_00004_LEFT_MLO/1.3.6.1.4.1.9590.100.1.2.272600286511817402806912403581910920939/1.3.6.1.4.1.9590.100.1.2.295360926313492745441868049270168300162/1-1.dcm |Mass-Training_P_00004_LEFT_MLO_1/1.3.6.1.4.1.9590.100.1.2.342549219112801262604988012930063078769/1.3.6.1.4.1.9590.100.1.2.115134232113001553100559896703407510515/1-1.dcm|Mass-Training_P_00004_LEFT_MLO_1/1.3.6.1.4.1.9590.100.1.2.342549219112801262604988012930063078769/1.3.6.1.4.1.9590.100.1.2.115134232113001553100559896703407510515/1-1.dcm|mass|null     |null             |\n",
      "|P_00004   |3             |RIGHT               |MLO       |1             |mass            |OVAL                              |CIRCUMSCRIBED|4         |BENIGN   |5       |Mass-Training_P_00004_RIGHT_MLO/1.3.6.1.4.1.9590.100.1.2.174047308712169195014610267031196524486/1.3.6.1.4.1.9590.100.1.2.410524754913057908920631336070876889890/000000.dcm|Mass-Training_P_00004_RIGHT_MLO_1/1.3.6.1.4.1.9590.100.1.2.341142631111685501338932932302380583774/1.3.6.1.4.1.9590.100.1.2.12857366312625701203276284233604184846/000000.dcm|Mass-Training_P_00004_RIGHT_MLO_1/1.3.6.1.4.1.9590.100.1.2.341142631111685501338932932302380583774/1.3.6.1.4.1.9590.100.1.2.12857366312625701203276284233604184846/000001.dcm\\n|Mass-Training_P_00004_RIGHT_MLO/1.3.6.1.4.1.9590.100.1.2.174047308712169195014610267031196524486/1.3.6.1.4.1.9590.100.1.2.410524754913057908920631336070876889890/1-1.dcm|Mass-Training_P_00004_RIGHT_MLO_1/1.3.6.1.4.1.9590.100.1.2.341142631111685501338932932302380583774/1.3.6.1.4.1.9590.100.1.2.12857366312625701203276284233604184846/1-1.dcm|Mass-Training_P_00004_RIGHT_MLO_1/1.3.6.1.4.1.9590.100.1.2.341142631111685501338932932302380583774/1.3.6.1.4.1.9590.100.1.2.12857366312625701203276284233604184846/1-1.dcm|mass|null     |null             |\n",
      "+----------+--------------+--------------------+----------+--------------+----------------+----------------------------------+-------------+----------+---------+--------+----------------------------------------------------------------------------------------------------------------------------------------------------------------------------+-----------------------------------------------------------------------------------------------------------------------------------------------------------------------------+-------------------------------------------------------------------------------------------------------------------------------------------------------------------------------+-------------------------------------------------------------------------------------------------------------------------------------------------------------------------+--------------------------------------------------------------------------------------------------------------------------------------------------------------------------+--------------------------------------------------------------------------------------------------------------------------------------------------------------------------+----+---------+-----------------+\n",
      "only showing top 5 rows\n",
      "\n"
     ]
    }
   ],
   "source": [
    "train_df.show(5, truncate=False)"
   ]
  },
  {
   "cell_type": "markdown",
   "id": "ad937f1d-6e41-4020-86ec-eac833ff03b3",
   "metadata": {},
   "source": [
    "Ahora solo nos interesa guardas las columnas que puedan aportar informacion valiosa para el entrenamiento, por lo que seleccionaremos las siguientes:\n",
    "- **image_path**: Ruta hasta la imagen Dicom\n",
    "- **cropped_path**: Ruta hasta la imagen Dicom recortada\n",
    "- **roi_path**: Ruta hasta la imagen de Dicom de la region de interes\n",
    "- **type**: Tipo de imagen (masa o calcificacion)\n",
    "- **pathology**: Tipo de patologia (Benigna, Beningna sin mas examenes, Maligna)\n",
    "- **abnormality type**: Tipo de anomalia detectada (masa o calcificacion) (tiene valores nulos)\n",
    "- **assessment**: Escala de 0-5 que va correlacionada con **pathology**\n",
    "- **breast_density**: Densidad de las mamas\n",
    "- **calc distribution**: Distribucion de la calcificacion\n",
    "- **calc type**: Tipo de la calcificacion\n",
    "- **mass margins**: Margenes de las masas\n",
    "- **mass shape**: Forma de las masas\n",
    "- **image view**: Angulo de vision de la imagen\n",
    "- **left or right breast**: Lateralidad del seno de la imagen\n",
    "- **subtlety**: "
   ]
  },
  {
   "cell_type": "code",
   "execution_count": 29,
   "id": "70711ba2-7dbd-4a1f-b881-28664f785156",
   "metadata": {},
   "outputs": [],
   "source": [
    "columns_to_keep = [\n",
    "    \"image_path\",\n",
    "    \"cropped_path\",\n",
    "    \"roi_path\",\n",
    "    \"abnormality type\",\n",
    "    \"assessment\",\n",
    "    \"breast_density\",\n",
    "    \"calc distribution\",\n",
    "    \"calc type\",\n",
    "    \"image view\",\n",
    "    \"left or right breast\",\n",
    "    \"mass margins\",\n",
    "    \"mass shape\",\n",
    "    \"subtlety\",\n",
    "    \"type\",\n",
    "    \"pathology\" # Label\n",
    "]"
   ]
  },
  {
   "cell_type": "code",
   "execution_count": 30,
   "id": "04e3255a-3c4a-46c2-a2c5-54e470c6fe15",
   "metadata": {},
   "outputs": [],
   "source": [
    "# These are the dataset as publicly available in the TCIA website, however, I'm going to merge them to keep one single dataset\n",
    "# so I can create my own trainig, validation and test datasets later in the process.\n",
    "# train_df.select(*columns_to_keep).write.mode(\"overwrite\").parquet(OUTPUT_TRAIN)\n",
    "# test_df.select(*columns_to_keep).write.mode(\"overwrite\").parquet(OUTPUT_TEST)\n",
    "\n",
    "full_df = train_df.select(*columns_to_keep).unionByName(test_df.select(*columns_to_keep))\n",
    "full_df.write.mode(\"overwrite\").parquet(CBISDDSM_DF)"
   ]
  },
  {
   "cell_type": "markdown",
   "id": "f907038c-e3da-483b-a66f-f8c15a7ab779",
   "metadata": {},
   "source": [
    "---\n",
    "# Verificacion de directorios\n",
    "\n",
    "Dado que estoy cambiando manualmente los nombres de los archivos para que reflejen el nombre correcto descargado por el NBIA Data Retriever, tengo que asegurarme que las nuevas rutas corresponden\n",
    "a los archivos descargados, por lo que cada una de las rutas tiene que corresponder a un archivo existente en el directorio de las imágenes.\n",
    "\n",
    "Para ello, se emplea un script de Pandas que vaya fila a fila por cada ruta y verifique su existencia haciendo uso de .exists()"
   ]
  },
  {
   "cell_type": "code",
   "execution_count": 31,
   "id": "1175da07-4237-491e-b2c0-698ebefc6e45",
   "metadata": {},
   "outputs": [],
   "source": [
    "COLUMNS_TO_CHECK = [\"image_path\", \"cropped_path\", \"roi_path\"]\n",
    "cbisddsm_df = pd.read_parquet(CBISDDSM_DF)\n",
    "\n",
    "def check_wrong_paths(df, columns_to_check):\n",
    "    for col in columns_to_check:\n",
    "        if col not in cbisddsm_df.columns:\n",
    "            raise ValueError(f\"Column '{col}' not found in DataFrame.\")\n",
    "        \n",
    "        def check_exists(relative_path):\n",
    "            if not isinstance(relative_path, str):\n",
    "                return False\n",
    "            # Normalize and build full path\n",
    "            normalized = Path(relative_path.replace(\"/\", \"\\\\\"))  # Replace backslashes if any\n",
    "            full_path = (IMAGES_ABS_PATH / normalized).resolve()\n",
    "            return full_path.exists()\n",
    "    \n",
    "        cbisddsm_df[f\"{col}_exists\"] = cbisddsm_df[col].apply(check_exists)\n",
    "    \n",
    "    # Print full-width output\n",
    "    pd.set_option(\"display.max_colwidth\", None)\n",
    "    pd.set_option(\"display.max_columns\", None)\n",
    "    pd.set_option(\"display.width\", None)\n",
    "    \n",
    "    print(cbisddsm_df[[*COLUMNS_TO_CHECK, *(f\"{col}_exists\" for col in COLUMNS_TO_CHECK)]].describe())"
   ]
  },
  {
   "cell_type": "code",
   "execution_count": 32,
   "id": "7c1d533c-552f-4f39-9096-67ac22e4f7ed",
   "metadata": {},
   "outputs": [
    {
     "name": "stdout",
     "output_type": "stream",
     "text": [
      "                                                                                                                                                                       image_path  \\\n",
      "count                                                                                                                                                                        3568   \n",
      "unique                                                                                                                                                                       3103   \n",
      "top     Calc-Training_P_00112_RIGHT_MLO/1.3.6.1.4.1.9590.100.1.2.184701927611299861837929775922316557387/1.3.6.1.4.1.9590.100.1.2.329104735012234553414142104453590990063/1-1.dcm   \n",
      "freq                                                                                                                                                                            7   \n",
      "\n",
      "                                                                                                                                                                   cropped_path  \\\n",
      "count                                                                                                                                                                      3568   \n",
      "unique                                                                                                                                                                     3568   \n",
      "top     Calc-Test_P_02501_RIGHT_MLO_1/1.3.6.1.4.1.9590.100.1.2.205787171012013227527211360231662730126/1.3.6.1.4.1.9590.100.1.2.415945278010571172614725973761171003724/1-1.dcm   \n",
      "freq                                                                                                                                                                          1   \n",
      "\n",
      "                                                                                                                                                                       roi_path  \\\n",
      "count                                                                                                                                                                      3568   \n",
      "unique                                                                                                                                                                     3568   \n",
      "top     Calc-Test_P_02501_RIGHT_MLO_1/1.3.6.1.4.1.9590.100.1.2.205787171012013227527211360231662730126/1.3.6.1.4.1.9590.100.1.2.415945278010571172614725973761171003724/1-2.dcm   \n",
      "freq                                                                                                                                                                          1   \n",
      "\n",
      "       image_path_exists cropped_path_exists roi_path_exists  \n",
      "count               3568                3568            3568  \n",
      "unique                 1                   1               2  \n",
      "top                 True                True            True  \n",
      "freq                3568                3568            3556  \n"
     ]
    }
   ],
   "source": [
    "check_wrong_paths(cbisddsm_df, COLUMNS_TO_CHECK)"
   ]
  },
  {
   "cell_type": "code",
   "execution_count": 33,
   "id": "4faad9f7",
   "metadata": {
    "scrolled": true
   },
   "outputs": [
    {
     "name": "stdout",
     "output_type": "stream",
     "text": [
      "                                                                                                                                                                    image_path  \\\n",
      "1662  Calc-Training_P_00474_LEFT_MLO/1.3.6.1.4.1.9590.100.1.2.275365930412464771525793839621783178044/1.3.6.1.4.1.9590.100.1.2.416722881411737593414359448931127663526/1-1.dcm   \n",
      "2888         Mass-Test_P_00145_LEFT_CC/1.3.6.1.4.1.9590.100.1.2.1690300211339647707524717243145291907/1.3.6.1.4.1.9590.100.1.2.417157466613270187342040774840270966760/1-1.dcm   \n",
      "2889      Mass-Test_P_00145_LEFT_MLO/1.3.6.1.4.1.9590.100.1.2.402597752311106363226439584340743106894/1.3.6.1.4.1.9590.100.1.2.259283265213236844915772927081591873003/1-1.dcm   \n",
      "2905         Mass-Test_P_00192_RIGHT_CC/1.3.6.1.4.1.9590.100.1.2.67829310312682266325756632422415740063/1.3.6.1.4.1.9590.100.1.2.3137485612561155103546988960022747853/1-1.dcm   \n",
      "2949       Mass-Test_P_00381_LEFT_CC/1.3.6.1.4.1.9590.100.1.2.270295168510989073523749075262334882168/1.3.6.1.4.1.9590.100.1.2.325293736011893421816901315930122472763/1-1.dcm   \n",
      "2950       Mass-Test_P_00381_LEFT_MLO/1.3.6.1.4.1.9590.100.1.2.98237180810313132028590178903103810372/1.3.6.1.4.1.9590.100.1.2.272184723711385047630954095450427972031/1-1.dcm   \n",
      "3024      Mass-Test_P_00699_RIGHT_CC/1.3.6.1.4.1.9590.100.1.2.303934672311391817417174604110279148625/1.3.6.1.4.1.9590.100.1.2.204033481911004862841422657551673864032/1-1.dcm   \n",
      "3025     Mass-Test_P_00699_RIGHT_MLO/1.3.6.1.4.1.9590.100.1.2.299756943812133215705506123732454626533/1.3.6.1.4.1.9590.100.1.2.338795836012549040207248221723714291947/1-1.dcm   \n",
      "3053      Mass-Test_P_00922_RIGHT_CC/1.3.6.1.4.1.9590.100.1.2.105282391613694825127916484242144849285/1.3.6.1.4.1.9590.100.1.2.350758500711977203105438437652746485768/1-1.dcm   \n",
      "3054     Mass-Test_P_00922_RIGHT_MLO/1.3.6.1.4.1.9590.100.1.2.307765987913830592231162067513992852623/1.3.6.1.4.1.9590.100.1.2.419552524112122749501984836111617727698/1-1.dcm   \n",
      "3184       Mass-Test_P_01595_LEFT_CC/1.3.6.1.4.1.9590.100.1.2.383871294913845149336613226350915580440/1.3.6.1.4.1.9590.100.1.2.176197299412099100034183343550119515253/1-1.dcm   \n",
      "3185      Mass-Test_P_01595_LEFT_MLO/1.3.6.1.4.1.9590.100.1.2.232678309610911631106909930480827159209/1.3.6.1.4.1.9590.100.1.2.116480947112670898133535663431673811690/1-1.dcm   \n",
      "\n",
      "                                                                                                                                                                   cropped_path  \\\n",
      "1662  Calc-Training_P_00474_LEFT_MLO_1/1.3.6.1.4.1.9590.100.1.2.317367128312662574506465519571363212715/1.3.6.1.4.1.9590.100.1.2.27611247910023474515584644283556391565/1-1.dcm   \n",
      "2888       Mass-Test_P_00145_LEFT_CC_1/1.3.6.1.4.1.9590.100.1.2.93042606812028734315141605334209390238/1.3.6.1.4.1.9590.100.1.2.423283243012912888204847591923699853302/1-1.dcm   \n",
      "2889     Mass-Test_P_00145_LEFT_MLO_1/1.3.6.1.4.1.9590.100.1.2.246933169112193643518141861462334002159/1.3.6.1.4.1.9590.100.1.2.273736527812245924738896549683395645939/1-1.dcm   \n",
      "2905     Mass-Test_P_00192_RIGHT_CC_1/1.3.6.1.4.1.9590.100.1.2.334722300310414240336095527691508293411/1.3.6.1.4.1.9590.100.1.2.141816944311743098818326724042908915517/1-1.dcm   \n",
      "2949       Mass-Test_P_00381_LEFT_CC_1/1.3.6.1.4.1.9590.100.1.2.95821934011799710413464925810051729319/1.3.6.1.4.1.9590.100.1.2.144126922913180325224871786602045893599/1-1.dcm   \n",
      "2950     Mass-Test_P_00381_LEFT_MLO_1/1.3.6.1.4.1.9590.100.1.2.322186691512301095327484036310298484629/1.3.6.1.4.1.9590.100.1.2.373949293413399691210036819474124893691/1-1.dcm   \n",
      "3024       Mass-Test_P_00699_RIGHT_CC_1/1.3.6.1.4.1.9590.100.1.2.38918671311748683823732245892550205854/1.3.6.1.4.1.9590.100.1.2.67609098512679403432428254042416854686/1-1.dcm   \n",
      "3025    Mass-Test_P_00699_RIGHT_MLO_1/1.3.6.1.4.1.9590.100.1.2.203217338812796910527485190800565905979/1.3.6.1.4.1.9590.100.1.2.271119365811925830039649727131876647231/1-1.dcm   \n",
      "3053      Mass-Test_P_00922_RIGHT_CC_1/1.3.6.1.4.1.9590.100.1.2.70398258112919268818692673411660138722/1.3.6.1.4.1.9590.100.1.2.116740801513320047136843468024081974184/1-1.dcm   \n",
      "3054    Mass-Test_P_00922_RIGHT_MLO_1/1.3.6.1.4.1.9590.100.1.2.229205635913700301010394116422126072067/1.3.6.1.4.1.9590.100.1.2.250580549713037595829242331282759055654/1-1.dcm   \n",
      "3184      Mass-Test_P_01595_LEFT_CC_1/1.3.6.1.4.1.9590.100.1.2.404444414211923964309483104423598459071/1.3.6.1.4.1.9590.100.1.2.166780450612529588140273491753803765092/1-1.dcm   \n",
      "3185       Mass-Test_P_01595_LEFT_MLO_1/1.3.6.1.4.1.9590.100.1.2.208887696913173909908192759191681800195/1.3.6.1.4.1.9590.100.1.2.2030047612135098214495507351416668765/1-1.dcm   \n",
      "\n",
      "                                                                                                                                                                        roi_path  \\\n",
      "1662  Calc-Training_P_00474_LEFT_MLO_1/1.3.6.1.4.1.9590.100.1.2.185043095411645186738811042901998911708/1.3.6.1.4.1.9590.100.1.2.323173986211744534717152497940376023803/1-2.dcm   \n",
      "2888        Mass-Test_P_00145_LEFT_CC_1/1.3.6.1.4.1.9590.100.1.2.347201999812652029915679215363226331267/1.3.6.1.4.1.9590.100.1.2.88091748413596024615343003341621545741/1-2.dcm   \n",
      "2889       Mass-Test_P_00145_LEFT_MLO_1/1.3.6.1.4.1.9590.100.1.2.166422760212419858724983804472816452166/1.3.6.1.4.1.9590.100.1.2.71333513012885558329531613884249028215/1-2.dcm   \n",
      "2905      Mass-Test_P_00192_RIGHT_CC_1/1.3.6.1.4.1.9590.100.1.2.142213047812889208929888344494215943116/1.3.6.1.4.1.9590.100.1.2.206133830412739740219136620982493384137/1-2.dcm   \n",
      "2949        Mass-Test_P_00381_LEFT_CC_1/1.3.6.1.4.1.9590.100.1.2.389039792713674978007340732771120078728/1.3.6.1.4.1.9590.100.1.2.77795177210720655324735986231176035759/1-2.dcm   \n",
      "2950       Mass-Test_P_00381_LEFT_MLO_1/1.3.6.1.4.1.9590.100.1.2.409587981311120094123360088590093132671/1.3.6.1.4.1.9590.100.1.2.34719084810338030929028689201743802900/1-2.dcm   \n",
      "3024      Mass-Test_P_00699_RIGHT_CC_1/1.3.6.1.4.1.9590.100.1.2.130363432911731469814686898133239165992/1.3.6.1.4.1.9590.100.1.2.213373259211561590636126913501301096523/1-2.dcm   \n",
      "3025     Mass-Test_P_00699_RIGHT_MLO_1/1.3.6.1.4.1.9590.100.1.2.398722060713017696304275345022882783432/1.3.6.1.4.1.9590.100.1.2.417648191012923677524976239580596100929/1-2.dcm   \n",
      "3053      Mass-Test_P_00922_RIGHT_CC_1/1.3.6.1.4.1.9590.100.1.2.348317584113549165317172392152990570160/1.3.6.1.4.1.9590.100.1.2.168513812311307055427394175041471803029/1-2.dcm   \n",
      "3054      Mass-Test_P_00922_RIGHT_MLO_1/1.3.6.1.4.1.9590.100.1.2.179541668311923022306287456111368930078/1.3.6.1.4.1.9590.100.1.2.84252652613949378218158585893387800265/1-2.dcm   \n",
      "3184         Mass-Test_P_01595_LEFT_CC_1/1.3.6.1.4.1.9590.100.1.2.76308356211200384833250714970745942023/1.3.6.1.4.1.9590.100.1.2.62743301211495345835434566670294393832/1-2.dcm   \n",
      "3185      Mass-Test_P_01595_LEFT_MLO_1/1.3.6.1.4.1.9590.100.1.2.354475681612412200004953112330168357648/1.3.6.1.4.1.9590.100.1.2.250048723412722873040250881911272043627/1-2.dcm   \n",
      "\n",
      "      image_path_exists  cropped_path_exists  roi_path_exists  \n",
      "1662               True                 True            False  \n",
      "2888               True                 True            False  \n",
      "2889               True                 True            False  \n",
      "2905               True                 True            False  \n",
      "2949               True                 True            False  \n",
      "2950               True                 True            False  \n",
      "3024               True                 True            False  \n",
      "3025               True                 True            False  \n",
      "3053               True                 True            False  \n",
      "3054               True                 True            False  \n",
      "3184               True                 True            False  \n",
      "3185               True                 True            False  \n"
     ]
    }
   ],
   "source": [
    "missing_roi = cbisddsm_df[cbisddsm_df[\"roi_path_exists\"] == False]\n",
    "print(missing_roi[COLUMNS_TO_CHECK + [f\"{col}_exists\" for col in COLUMNS_TO_CHECK]])"
   ]
  },
  {
   "cell_type": "markdown",
   "id": "848027cb-2117-4209-96c2-32f0781c1dd2",
   "metadata": {},
   "source": [
    "## Observaciones\n",
    "\n",
    "Podemos observar que algunas rutas no existen, esto se debe a que no todos los archivos anteriores siguen el mismo formato, sin embargo, el formato de nombres 1-1.dcm y 1-2.dcm se mantiene luego de revisar los archivos exhaustivamente. Por lo que se corregirán los 12 casos anteriores con otro scrip en Pandas.\n",
    "\n",
    "**Nota**: Se usa Pandas dado que Spark no tiene una función para acceder al File System, por lo que crear una UDF que verifique la existencia del archivo iría en contra del principio distribuido de PySpark, por lo que luego del procesamiento inicial, ya no es necesario."
   ]
  },
  {
   "cell_type": "code",
   "execution_count": 34,
   "id": "53cc72f6-5202-42a4-989b-f75fe5a19822",
   "metadata": {},
   "outputs": [
    {
     "name": "stdout",
     "output_type": "stream",
     "text": [
      "                                                                                                                                                                       image_path  \\\n",
      "count                                                                                                                                                                        3568   \n",
      "unique                                                                                                                                                                       3103   \n",
      "top     Calc-Training_P_00112_RIGHT_MLO/1.3.6.1.4.1.9590.100.1.2.184701927611299861837929775922316557387/1.3.6.1.4.1.9590.100.1.2.329104735012234553414142104453590990063/1-1.dcm   \n",
      "freq                                                                                                                                                                            7   \n",
      "\n",
      "                                                                                                                                                                   cropped_path  \\\n",
      "count                                                                                                                                                                      3568   \n",
      "unique                                                                                                                                                                     3568   \n",
      "top     Calc-Test_P_02501_RIGHT_MLO_1/1.3.6.1.4.1.9590.100.1.2.205787171012013227527211360231662730126/1.3.6.1.4.1.9590.100.1.2.415945278010571172614725973761171003724/1-1.dcm   \n",
      "freq                                                                                                                                                                          1   \n",
      "\n",
      "                                                                                                                                                                       roi_path  \\\n",
      "count                                                                                                                                                                      3568   \n",
      "unique                                                                                                                                                                     3568   \n",
      "top     Calc-Test_P_02501_RIGHT_MLO_1/1.3.6.1.4.1.9590.100.1.2.205787171012013227527211360231662730126/1.3.6.1.4.1.9590.100.1.2.415945278010571172614725973761171003724/1-2.dcm   \n",
      "freq                                                                                                                                                                          1   \n",
      "\n",
      "       image_path_exists cropped_path_exists roi_path_exists  \n",
      "count               3568                3568            3568  \n",
      "unique                 1                   1               1  \n",
      "top                 True                True            True  \n",
      "freq                3568                3568            3568  \n"
     ]
    }
   ],
   "source": [
    "bad_indexes = missing_roi.index.tolist()\n",
    "\n",
    "for idx in bad_indexes:\n",
    "    path = cbisddsm_df.at[idx, \"roi_path\"]\n",
    "    if isinstance(path, str):\n",
    "        cbisddsm_df.at[idx, \"roi_path\"] = re.sub(r\"/[^/]+$\", \"/1-1.dcm\", path)\n",
    "\n",
    "check_wrong_paths(cbisddsm_df, COLUMNS_TO_CHECK)"
   ]
  },
  {
   "cell_type": "markdown",
   "id": "56ebab52-d6d5-4e16-84f3-ce7d688e13a9",
   "metadata": {},
   "source": [
    "## Observaciones\n",
    "\n",
    "Una vez corregidos los nombres de los archivos, ahora guardamos el dataset corregido para pasar al entrenamiento."
   ]
  },
  {
   "cell_type": "code",
   "execution_count": 35,
   "id": "44089281-db82-4b20-961c-c09ad9e80822",
   "metadata": {},
   "outputs": [],
   "source": [
    "cbisddsm_df.to_parquet(CBISDDSM_FIXED_SET, index=False)"
   ]
  },
  {
   "cell_type": "code",
   "execution_count": 36,
   "id": "ff2dd91e-8125-45b3-9f2a-da4668ea9f4d",
   "metadata": {},
   "outputs": [],
   "source": [
    "spark.stop()"
   ]
  },
  {
   "cell_type": "markdown",
   "id": "5d771f4d",
   "metadata": {},
   "source": [
    "# Observaciones\n",
    "Luego de corregir los nommbres de todos los archivos dicom en el dataset, ya podemos hacer uso de estos archivos junto con sus etiquetas de patologia, por lo que podemos pasar al a fase de entrenamiento del modelo."
   ]
  },
  {
   "cell_type": "markdown",
   "id": "93b02147-e34a-4a7a-a578-f3824f655292",
   "metadata": {},
   "source": [
    "# Entrenamiento de Modelos\n",
    "\n",
    "Primero, vamos a confirmar que Jupyter puede ver y usar la GPU. Se espera True y NVIDIA GeForce RTX 3070"
   ]
  },
  {
   "cell_type": "code",
   "execution_count": 37,
   "id": "dad39cbe-8c80-437f-8f2c-df68512f2814",
   "metadata": {},
   "outputs": [
    {
     "data": {
      "text/plain": [
       "(True, 'NVIDIA GeForce RTX 3070 Laptop GPU')"
      ]
     },
     "execution_count": 37,
     "metadata": {},
     "output_type": "execute_result"
    }
   ],
   "source": [
    "torch.cuda.is_available(), torch.cuda.get_device_name(0)"
   ]
  },
  {
   "cell_type": "code",
   "execution_count": 38,
   "id": "05ab0111-3913-4eae-9a4c-9f897a3f9054",
   "metadata": {},
   "outputs": [],
   "source": [
    "import uuid\n",
    "correlation_id = str(uuid.uuid4())"
   ]
  },
  {
   "cell_type": "code",
   "execution_count": 39,
   "id": "ebd2e252",
   "metadata": {},
   "outputs": [],
   "source": [
    "# General\n",
    "import torch\n",
    "from pathlib import Path\n",
    "\n",
    "# Datasets\n",
    "from datasets.cbisddsm import CBISDDSMDataset\n",
    "\n",
    "# Models (choose one per run)\n",
    "from models.resnet import ResNetModel\n",
    "from models.efficientnet import EfficientNetModel\n",
    "from models.mobilenet import MobileNetModel\n",
    "\n",
    "# Training\n",
    "from training.engine import Trainer\n",
    "from torch.optim import Adam\n",
    "from torch.optim.lr_scheduler import ReduceLROnPlateau\n",
    "import torch.nn as nn\n",
    "\n",
    "# Visualization\n",
    "from utils.visualization import (\n",
    "    plot_training_history,\n",
    "    save_training_history_to_csv,\n",
    "    plot_confusion_matrix\n",
    ")\n",
    "\n",
    "# Constants\n",
    "from utils.constants import IMAGES_ABS_PATH, LABEL_MAP, MODELS_OUTPUT_PATH\n",
    "\n",
    "# Torch utils\n",
    "from torch.utils.data import DataLoader"
   ]
  },
  {
   "cell_type": "code",
   "execution_count": 40,
   "id": "00e54d0f-cd4f-4600-8dad-8b7909192d01",
   "metadata": {},
   "outputs": [],
   "source": [
    "from pathlib import Path\n",
    "from sklearn.model_selection import train_test_split\n",
    "import pyarrow.parquet as pq\n",
    "\n",
    "\n",
    "# Load full dataset to split\n",
    "cbisddsm_df = pq.read_table(CBISDDSM_FIXED_SET).to_pandas()\n",
    "train_df, test_df = train_test_split(cbisddsm_df, test_size=0.2, stratify=cbisddsm_df[\"pathology\"], random_state=42)\n",
    "train_df, val_df = train_test_split(train_df, test_size=0.2, stratify=train_df[\"pathology\"], random_state=42)\n",
    "\n",
    "# Save temporary splits\n",
    "train_df.to_parquet(\"train.parquet\", index=False)\n",
    "val_df.to_parquet(\"val.parquet\", index=False)\n",
    "test_df.to_parquet(\"test.parquet\", index=False)"
   ]
  },
  {
   "cell_type": "code",
   "execution_count": 41,
   "id": "e15dd326-2050-44a4-a27e-a84066249906",
   "metadata": {},
   "outputs": [
    {
     "name": "stdout",
     "output_type": "stream",
     "text": [
      "\n",
      "==== Training ResNet50 ====\n",
      "\n",
      "Epoch 1/20\n"
     ]
    },
    {
     "data": {
      "application/vnd.jupyter.widget-view+json": {
       "model_id": "0da280d848704811b6d38413ebab3ca4",
       "version_major": 2,
       "version_minor": 0
      },
      "text/plain": [
       "Training:   0%|          | 0/33 [00:00<?, ?it/s]"
      ]
     },
     "metadata": {},
     "output_type": "display_data"
    },
    {
     "data": {
      "application/vnd.jupyter.widget-view+json": {
       "model_id": "10e2657964c144c893f048630e5e2ae5",
       "version_major": 2,
       "version_minor": 0
      },
      "text/plain": [
       "Evaluating:   0%|          | 0/9 [00:00<?, ?it/s]"
      ]
     },
     "metadata": {},
     "output_type": "display_data"
    },
    {
     "name": "stdout",
     "output_type": "stream",
     "text": [
      "Train Loss: 0.9477 | Val Loss: 0.8465 | Val Acc: 0.58% | Recall: 0.5831 | Precision: 0.6469 | F1: 0.6063\n",
      "\n",
      "Epoch 2/20\n"
     ]
    },
    {
     "data": {
      "application/vnd.jupyter.widget-view+json": {
       "model_id": "bcebe5ca46a04ba398b9c4731b5420d4",
       "version_major": 2,
       "version_minor": 0
      },
      "text/plain": [
       "Training:   0%|          | 0/33 [00:00<?, ?it/s]"
      ]
     },
     "metadata": {},
     "output_type": "display_data"
    },
    {
     "data": {
      "application/vnd.jupyter.widget-view+json": {
       "model_id": "09b59bc5a12c40939bcfd1aaccd634e9",
       "version_major": 2,
       "version_minor": 0
      },
      "text/plain": [
       "Evaluating:   0%|          | 0/9 [00:00<?, ?it/s]"
      ]
     },
     "metadata": {},
     "output_type": "display_data"
    },
    {
     "name": "stdout",
     "output_type": "stream",
     "text": [
      "Train Loss: 0.6455 | Val Loss: 0.7265 | Val Acc: 0.62% | Recall: 0.6367 | Precision: 0.6858 | F1: 0.6558\n",
      "\n",
      "Epoch 3/20\n"
     ]
    },
    {
     "data": {
      "application/vnd.jupyter.widget-view+json": {
       "model_id": "945c8cd973da4deab7991450ca010541",
       "version_major": 2,
       "version_minor": 0
      },
      "text/plain": [
       "Training:   0%|          | 0/33 [00:00<?, ?it/s]"
      ]
     },
     "metadata": {},
     "output_type": "display_data"
    },
    {
     "data": {
      "application/vnd.jupyter.widget-view+json": {
       "model_id": "6ed053fc4a3a4cdda3d568320665ae22",
       "version_major": 2,
       "version_minor": 0
      },
      "text/plain": [
       "Evaluating:   0%|          | 0/9 [00:00<?, ?it/s]"
      ]
     },
     "metadata": {},
     "output_type": "display_data"
    },
    {
     "name": "stdout",
     "output_type": "stream",
     "text": [
      "Train Loss: 0.3594 | Val Loss: 0.8118 | Val Acc: 0.63% | Recall: 0.6562 | Precision: 0.6939 | F1: 0.6721\n",
      "\n",
      "Epoch 4/20\n"
     ]
    },
    {
     "data": {
      "application/vnd.jupyter.widget-view+json": {
       "model_id": "7afcaad7ddce4d78a7b8b9e7d6e75592",
       "version_major": 2,
       "version_minor": 0
      },
      "text/plain": [
       "Training:   0%|          | 0/33 [00:00<?, ?it/s]"
      ]
     },
     "metadata": {},
     "output_type": "display_data"
    },
    {
     "data": {
      "application/vnd.jupyter.widget-view+json": {
       "model_id": "c9367d918c9c465fb92c7451b85cde8b",
       "version_major": 2,
       "version_minor": 0
      },
      "text/plain": [
       "Evaluating:   0%|          | 0/9 [00:00<?, ?it/s]"
      ]
     },
     "metadata": {},
     "output_type": "display_data"
    },
    {
     "name": "stdout",
     "output_type": "stream",
     "text": [
      "Train Loss: 0.1313 | Val Loss: 0.9615 | Val Acc: 0.66% | Recall: 0.6812 | Precision: 0.7117 | F1: 0.6945\n",
      "\n",
      "Epoch 5/20\n"
     ]
    },
    {
     "data": {
      "application/vnd.jupyter.widget-view+json": {
       "model_id": "82796d090d4a4e269386822971002825",
       "version_major": 2,
       "version_minor": 0
      },
      "text/plain": [
       "Training:   0%|          | 0/33 [00:00<?, ?it/s]"
      ]
     },
     "metadata": {},
     "output_type": "display_data"
    },
    {
     "data": {
      "application/vnd.jupyter.widget-view+json": {
       "model_id": "ff2de56a8e664011b4c4eeba955de790",
       "version_major": 2,
       "version_minor": 0
      },
      "text/plain": [
       "Evaluating:   0%|          | 0/9 [00:00<?, ?it/s]"
      ]
     },
     "metadata": {},
     "output_type": "display_data"
    },
    {
     "name": "stdout",
     "output_type": "stream",
     "text": [
      "Train Loss: 0.0461 | Val Loss: 1.0576 | Val Acc: 0.66% | Recall: 0.6841 | Precision: 0.7100 | F1: 0.6956\n",
      "\n",
      "Epoch 6/20\n"
     ]
    },
    {
     "data": {
      "application/vnd.jupyter.widget-view+json": {
       "model_id": "b283562dc1174d42aa4e980efa3a38e0",
       "version_major": 2,
       "version_minor": 0
      },
      "text/plain": [
       "Training:   0%|          | 0/33 [00:00<?, ?it/s]"
      ]
     },
     "metadata": {},
     "output_type": "display_data"
    },
    {
     "data": {
      "application/vnd.jupyter.widget-view+json": {
       "model_id": "a64105b2f53a457e8280486c89c6a6d8",
       "version_major": 2,
       "version_minor": 0
      },
      "text/plain": [
       "Evaluating:   0%|          | 0/9 [00:00<?, ?it/s]"
      ]
     },
     "metadata": {},
     "output_type": "display_data"
    },
    {
     "name": "stdout",
     "output_type": "stream",
     "text": [
      "Train Loss: 0.0366 | Val Loss: 1.1685 | Val Acc: 0.66% | Recall: 0.6854 | Precision: 0.7065 | F1: 0.6913\n",
      "\n",
      "Epoch 7/20\n"
     ]
    },
    {
     "data": {
      "application/vnd.jupyter.widget-view+json": {
       "model_id": "a5401e1e25ca4ec3bdb3dc8174b3f70f",
       "version_major": 2,
       "version_minor": 0
      },
      "text/plain": [
       "Training:   0%|          | 0/33 [00:00<?, ?it/s]"
      ]
     },
     "metadata": {},
     "output_type": "display_data"
    },
    {
     "data": {
      "application/vnd.jupyter.widget-view+json": {
       "model_id": "ac921dd8964e40b68fc99f77ffd6fabf",
       "version_major": 2,
       "version_minor": 0
      },
      "text/plain": [
       "Evaluating:   0%|          | 0/9 [00:00<?, ?it/s]"
      ]
     },
     "metadata": {},
     "output_type": "display_data"
    },
    {
     "name": "stdout",
     "output_type": "stream",
     "text": [
      "Train Loss: 0.0822 | Val Loss: 1.0697 | Val Acc: 0.64% | Recall: 0.6677 | Precision: 0.6850 | F1: 0.6715\n",
      "\n",
      "Epoch 8/20\n"
     ]
    },
    {
     "data": {
      "application/vnd.jupyter.widget-view+json": {
       "model_id": "a32ed24d13f8465fbd0b2f8281f591ea",
       "version_major": 2,
       "version_minor": 0
      },
      "text/plain": [
       "Training:   0%|          | 0/33 [00:00<?, ?it/s]"
      ]
     },
     "metadata": {},
     "output_type": "display_data"
    },
    {
     "data": {
      "application/vnd.jupyter.widget-view+json": {
       "model_id": "28907c1527914dd396f05299500ec199",
       "version_major": 2,
       "version_minor": 0
      },
      "text/plain": [
       "Evaluating:   0%|          | 0/9 [00:00<?, ?it/s]"
      ]
     },
     "metadata": {},
     "output_type": "display_data"
    },
    {
     "name": "stdout",
     "output_type": "stream",
     "text": [
      "Train Loss: 0.0613 | Val Loss: 1.2410 | Val Acc: 0.63% | Recall: 0.6641 | Precision: 0.6644 | F1: 0.6595\n",
      "\n",
      "Epoch 9/20\n"
     ]
    },
    {
     "data": {
      "application/vnd.jupyter.widget-view+json": {
       "model_id": "09a179fb0fdd437a9cd41626840aca1f",
       "version_major": 2,
       "version_minor": 0
      },
      "text/plain": [
       "Training:   0%|          | 0/33 [00:00<?, ?it/s]"
      ]
     },
     "metadata": {},
     "output_type": "display_data"
    },
    {
     "data": {
      "application/vnd.jupyter.widget-view+json": {
       "model_id": "c9053e0aac464d88ba445c9567a99e08",
       "version_major": 2,
       "version_minor": 0
      },
      "text/plain": [
       "Evaluating:   0%|          | 0/9 [00:00<?, ?it/s]"
      ]
     },
     "metadata": {},
     "output_type": "display_data"
    },
    {
     "name": "stdout",
     "output_type": "stream",
     "text": [
      "Train Loss: 0.0340 | Val Loss: 1.1717 | Val Acc: 0.65% | Recall: 0.6682 | Precision: 0.6907 | F1: 0.6779\n",
      "\n",
      "Epoch 10/20\n"
     ]
    },
    {
     "data": {
      "application/vnd.jupyter.widget-view+json": {
       "model_id": "19d5af22c536469da636510c21966dbd",
       "version_major": 2,
       "version_minor": 0
      },
      "text/plain": [
       "Training:   0%|          | 0/33 [00:00<?, ?it/s]"
      ]
     },
     "metadata": {},
     "output_type": "display_data"
    },
    {
     "data": {
      "application/vnd.jupyter.widget-view+json": {
       "model_id": "8e98c9f348a54f12bb2b114064d58695",
       "version_major": 2,
       "version_minor": 0
      },
      "text/plain": [
       "Evaluating:   0%|          | 0/9 [00:00<?, ?it/s]"
      ]
     },
     "metadata": {},
     "output_type": "display_data"
    },
    {
     "name": "stdout",
     "output_type": "stream",
     "text": [
      "Train Loss: 0.0125 | Val Loss: 1.2500 | Val Acc: 0.64% | Recall: 0.6704 | Precision: 0.6843 | F1: 0.6762\n",
      "\n",
      "Epoch 11/20\n"
     ]
    },
    {
     "data": {
      "application/vnd.jupyter.widget-view+json": {
       "model_id": "3f695b20b87f4c068d4367701a222473",
       "version_major": 2,
       "version_minor": 0
      },
      "text/plain": [
       "Training:   0%|          | 0/33 [00:00<?, ?it/s]"
      ]
     },
     "metadata": {},
     "output_type": "display_data"
    },
    {
     "data": {
      "application/vnd.jupyter.widget-view+json": {
       "model_id": "0e77413abdbf4277bb8a8f273af60051",
       "version_major": 2,
       "version_minor": 0
      },
      "text/plain": [
       "Evaluating:   0%|          | 0/9 [00:00<?, ?it/s]"
      ]
     },
     "metadata": {},
     "output_type": "display_data"
    },
    {
     "name": "stdout",
     "output_type": "stream",
     "text": [
      "Train Loss: 0.0058 | Val Loss: 1.2535 | Val Acc: 0.64% | Recall: 0.6722 | Precision: 0.6882 | F1: 0.6772\n",
      "\n",
      "Epoch 12/20\n"
     ]
    },
    {
     "data": {
      "application/vnd.jupyter.widget-view+json": {
       "model_id": "54d57526b523498b9e4f5083182823ab",
       "version_major": 2,
       "version_minor": 0
      },
      "text/plain": [
       "Training:   0%|          | 0/33 [00:00<?, ?it/s]"
      ]
     },
     "metadata": {},
     "output_type": "display_data"
    },
    {
     "data": {
      "application/vnd.jupyter.widget-view+json": {
       "model_id": "355e72f65c5d4662bceb9d1f63527bc7",
       "version_major": 2,
       "version_minor": 0
      },
      "text/plain": [
       "Evaluating:   0%|          | 0/9 [00:00<?, ?it/s]"
      ]
     },
     "metadata": {},
     "output_type": "display_data"
    },
    {
     "name": "stdout",
     "output_type": "stream",
     "text": [
      "Train Loss: 0.0040 | Val Loss: 1.2545 | Val Acc: 0.63% | Recall: 0.6636 | Precision: 0.6771 | F1: 0.6678\n",
      "\n",
      "Epoch 13/20\n"
     ]
    },
    {
     "data": {
      "application/vnd.jupyter.widget-view+json": {
       "model_id": "c3d226154b234cb68fbe31753f7ef613",
       "version_major": 2,
       "version_minor": 0
      },
      "text/plain": [
       "Training:   0%|          | 0/33 [00:00<?, ?it/s]"
      ]
     },
     "metadata": {},
     "output_type": "display_data"
    },
    {
     "data": {
      "application/vnd.jupyter.widget-view+json": {
       "model_id": "54012dc79ab4456e80c49d4024d60142",
       "version_major": 2,
       "version_minor": 0
      },
      "text/plain": [
       "Evaluating:   0%|          | 0/9 [00:00<?, ?it/s]"
      ]
     },
     "metadata": {},
     "output_type": "display_data"
    },
    {
     "name": "stdout",
     "output_type": "stream",
     "text": [
      "Train Loss: 0.0029 | Val Loss: 1.2517 | Val Acc: 0.65% | Recall: 0.6794 | Precision: 0.6964 | F1: 0.6857\n",
      "\n",
      "Epoch 14/20\n"
     ]
    },
    {
     "data": {
      "application/vnd.jupyter.widget-view+json": {
       "model_id": "2806807a963d4bf6bcde6e0d375204a1",
       "version_major": 2,
       "version_minor": 0
      },
      "text/plain": [
       "Training:   0%|          | 0/33 [00:00<?, ?it/s]"
      ]
     },
     "metadata": {},
     "output_type": "display_data"
    },
    {
     "data": {
      "application/vnd.jupyter.widget-view+json": {
       "model_id": "242965e7e30a488e8e70d2d091cd2cac",
       "version_major": 2,
       "version_minor": 0
      },
      "text/plain": [
       "Evaluating:   0%|          | 0/9 [00:00<?, ?it/s]"
      ]
     },
     "metadata": {},
     "output_type": "display_data"
    },
    {
     "name": "stdout",
     "output_type": "stream",
     "text": [
      "Train Loss: 0.0021 | Val Loss: 1.2497 | Val Acc: 0.65% | Recall: 0.6780 | Precision: 0.6913 | F1: 0.6821\n",
      "\n",
      "Epoch 15/20\n"
     ]
    },
    {
     "data": {
      "application/vnd.jupyter.widget-view+json": {
       "model_id": "d6f7ee722aec4e96a8717d0e98a9fbbd",
       "version_major": 2,
       "version_minor": 0
      },
      "text/plain": [
       "Training:   0%|          | 0/33 [00:00<?, ?it/s]"
      ]
     },
     "metadata": {},
     "output_type": "display_data"
    },
    {
     "data": {
      "application/vnd.jupyter.widget-view+json": {
       "model_id": "2724cad8e0a14080b8aac8189fb91ba1",
       "version_major": 2,
       "version_minor": 0
      },
      "text/plain": [
       "Evaluating:   0%|          | 0/9 [00:00<?, ?it/s]"
      ]
     },
     "metadata": {},
     "output_type": "display_data"
    },
    {
     "name": "stdout",
     "output_type": "stream",
     "text": [
      "Train Loss: 0.0021 | Val Loss: 1.2543 | Val Acc: 0.64% | Recall: 0.6726 | Precision: 0.6735 | F1: 0.6704\n",
      "\n",
      "Epoch 16/20\n"
     ]
    },
    {
     "data": {
      "application/vnd.jupyter.widget-view+json": {
       "model_id": "9f5ea9ddb3f0453998931ef86c3f91f3",
       "version_major": 2,
       "version_minor": 0
      },
      "text/plain": [
       "Training:   0%|          | 0/33 [00:00<?, ?it/s]"
      ]
     },
     "metadata": {},
     "output_type": "display_data"
    },
    {
     "data": {
      "application/vnd.jupyter.widget-view+json": {
       "model_id": "707d79e7accb4f9ab8902a4f6142d81d",
       "version_major": 2,
       "version_minor": 0
      },
      "text/plain": [
       "Evaluating:   0%|          | 0/9 [00:00<?, ?it/s]"
      ]
     },
     "metadata": {},
     "output_type": "display_data"
    },
    {
     "name": "stdout",
     "output_type": "stream",
     "text": [
      "Train Loss: 0.0029 | Val Loss: 1.2809 | Val Acc: 0.64% | Recall: 0.6741 | Precision: 0.6757 | F1: 0.6715\n",
      "\n",
      "Epoch 17/20\n"
     ]
    },
    {
     "data": {
      "application/vnd.jupyter.widget-view+json": {
       "model_id": "5ce4b77401a64edfad44a18643359dc0",
       "version_major": 2,
       "version_minor": 0
      },
      "text/plain": [
       "Training:   0%|          | 0/33 [00:00<?, ?it/s]"
      ]
     },
     "metadata": {},
     "output_type": "display_data"
    },
    {
     "data": {
      "application/vnd.jupyter.widget-view+json": {
       "model_id": "2c343b670a7d461282307021e3752135",
       "version_major": 2,
       "version_minor": 0
      },
      "text/plain": [
       "Evaluating:   0%|          | 0/9 [00:00<?, ?it/s]"
      ]
     },
     "metadata": {},
     "output_type": "display_data"
    },
    {
     "name": "stdout",
     "output_type": "stream",
     "text": [
      "Train Loss: 0.0018 | Val Loss: 1.2804 | Val Acc: 0.64% | Recall: 0.6739 | Precision: 0.6840 | F1: 0.6763\n",
      "\n",
      "Epoch 18/20\n"
     ]
    },
    {
     "data": {
      "application/vnd.jupyter.widget-view+json": {
       "model_id": "187ce5d7f3ae4570aad6fb0d0ba20da0",
       "version_major": 2,
       "version_minor": 0
      },
      "text/plain": [
       "Training:   0%|          | 0/33 [00:00<?, ?it/s]"
      ]
     },
     "metadata": {},
     "output_type": "display_data"
    },
    {
     "data": {
      "application/vnd.jupyter.widget-view+json": {
       "model_id": "bdb0532989b344f4935c579eca782b03",
       "version_major": 2,
       "version_minor": 0
      },
      "text/plain": [
       "Evaluating:   0%|          | 0/9 [00:00<?, ?it/s]"
      ]
     },
     "metadata": {},
     "output_type": "display_data"
    },
    {
     "name": "stdout",
     "output_type": "stream",
     "text": [
      "Train Loss: 0.0020 | Val Loss: 1.2800 | Val Acc: 0.64% | Recall: 0.6755 | Precision: 0.6765 | F1: 0.6733\n",
      "\n",
      "Epoch 19/20\n"
     ]
    },
    {
     "data": {
      "application/vnd.jupyter.widget-view+json": {
       "model_id": "97c4d3b685794ba09849bd8e8e218301",
       "version_major": 2,
       "version_minor": 0
      },
      "text/plain": [
       "Training:   0%|          | 0/33 [00:00<?, ?it/s]"
      ]
     },
     "metadata": {},
     "output_type": "display_data"
    },
    {
     "data": {
      "application/vnd.jupyter.widget-view+json": {
       "model_id": "8e0cc10ecb4641118827ea575f915209",
       "version_major": 2,
       "version_minor": 0
      },
      "text/plain": [
       "Evaluating:   0%|          | 0/9 [00:00<?, ?it/s]"
      ]
     },
     "metadata": {},
     "output_type": "display_data"
    },
    {
     "name": "stdout",
     "output_type": "stream",
     "text": [
      "Train Loss: 0.0015 | Val Loss: 1.2752 | Val Acc: 0.64% | Recall: 0.6753 | Precision: 0.6749 | F1: 0.6741\n",
      "\n",
      "Epoch 20/20\n"
     ]
    },
    {
     "data": {
      "application/vnd.jupyter.widget-view+json": {
       "model_id": "a15a112e386747a4af83e590f16d7b1c",
       "version_major": 2,
       "version_minor": 0
      },
      "text/plain": [
       "Training:   0%|          | 0/33 [00:00<?, ?it/s]"
      ]
     },
     "metadata": {},
     "output_type": "display_data"
    },
    {
     "data": {
      "application/vnd.jupyter.widget-view+json": {
       "model_id": "c85fd4481bb34960b2b7800b01e2bc3b",
       "version_major": 2,
       "version_minor": 0
      },
      "text/plain": [
       "Evaluating:   0%|          | 0/9 [00:00<?, ?it/s]"
      ]
     },
     "metadata": {},
     "output_type": "display_data"
    },
    {
     "name": "stdout",
     "output_type": "stream",
     "text": [
      "Train Loss: 0.0017 | Val Loss: 1.3083 | Val Acc: 0.64% | Recall: 0.6741 | Precision: 0.6772 | F1: 0.6725\n",
      "Best model saved to: D:\\TFM\\breast_cancer_detection\\models\\output\\resnet50_22c065b7-5c4a-4eef-b70a-22ec119ecf59.pth (val_acc: 0.69%)\n",
      "Model loaded from: D:\\TFM\\breast_cancer_detection\\models\\output\\resnet50_22c065b7-5c4a-4eef-b70a-22ec119ecf59.pth\n"
     ]
    },
    {
     "data": {
      "application/vnd.jupyter.widget-view+json": {
       "model_id": "d94621cbf8034ce39892d10e0b8646ea",
       "version_major": 2,
       "version_minor": 0
      },
      "text/plain": [
       "Evaluating:   0%|          | 0/11 [00:00<?, ?it/s]"
      ]
     },
     "metadata": {},
     "output_type": "display_data"
    },
    {
     "name": "stdout",
     "output_type": "stream",
     "text": [
      "Training history saved to D:\\TFM\\breast_cancer_detection\\models\\logs\\resnet50_22c065b7-5c4a-4eef-b70a-22ec119ecf59_history.csv\n"
     ]
    },
    {
     "data": {
      "image/png": "[encoded data removed]",
      "text/plain": [
       "<Figure size 1500x600 with 2 Axes>"
      ]
     },
     "metadata": {},
     "output_type": "display_data"
    },
    {
     "data": {
      "image/png": "[encoded data removed]",
      "text/plain": [
       "<Figure size 600x500 with 2 Axes>"
      ]
     },
     "metadata": {},
     "output_type": "display_data"
    },
    {
     "name": "stdout",
     "output_type": "stream",
     "text": [
      "\n",
      "==== Training EfficientNetB0 ====\n",
      "\n",
      "Epoch 1/20\n"
     ]
    },
    {
     "data": {
      "application/vnd.jupyter.widget-view+json": {
       "model_id": "e6a10593b103435ea367ec91543d06ac",
       "version_major": 2,
       "version_minor": 0
      },
      "text/plain": [
       "Training:   0%|          | 0/33 [00:00<?, ?it/s]"
      ]
     },
     "metadata": {},
     "output_type": "display_data"
    },
    {
     "data": {
      "application/vnd.jupyter.widget-view+json": {
       "model_id": "e623d222f8124e9294c468a6ebcb3cee",
       "version_major": 2,
       "version_minor": 0
      },
      "text/plain": [
       "Evaluating:   0%|          | 0/9 [00:00<?, ?it/s]"
      ]
     },
     "metadata": {},
     "output_type": "display_data"
    },
    {
     "name": "stdout",
     "output_type": "stream",
     "text": [
      "Train Loss: 0.9652 | Val Loss: 0.9095 | Val Acc: 0.59% | Recall: 0.6086 | Precision: 0.6156 | F1: 0.6104\n",
      "\n",
      "Epoch 2/20\n"
     ]
    },
    {
     "data": {
      "application/vnd.jupyter.widget-view+json": {
       "model_id": "c21d0c535f624e31ac166b71c6d66d88",
       "version_major": 2,
       "version_minor": 0
      },
      "text/plain": [
       "Training:   0%|          | 0/33 [00:00<?, ?it/s]"
      ]
     },
     "metadata": {},
     "output_type": "display_data"
    },
    {
     "data": {
      "application/vnd.jupyter.widget-view+json": {
       "model_id": "7cb0cd7eca3a4ee69dd8904296b19231",
       "version_major": 2,
       "version_minor": 0
      },
      "text/plain": [
       "Evaluating:   0%|          | 0/9 [00:00<?, ?it/s]"
      ]
     },
     "metadata": {},
     "output_type": "display_data"
    },
    {
     "name": "stdout",
     "output_type": "stream",
     "text": [
      "Train Loss: 0.7641 | Val Loss: 0.7481 | Val Acc: 0.61% | Recall: 0.6217 | Precision: 0.6501 | F1: 0.6340\n",
      "\n",
      "Epoch 3/20\n"
     ]
    },
    {
     "data": {
      "application/vnd.jupyter.widget-view+json": {
       "model_id": "a5b59f4cfd394412b9314a18869f6615",
       "version_major": 2,
       "version_minor": 0
      },
      "text/plain": [
       "Training:   0%|          | 0/33 [00:00<?, ?it/s]"
      ]
     },
     "metadata": {},
     "output_type": "display_data"
    },
    {
     "data": {
      "application/vnd.jupyter.widget-view+json": {
       "model_id": "20868c9fe0ee4d23ae4d8c0689b790fc",
       "version_major": 2,
       "version_minor": 0
      },
      "text/plain": [
       "Evaluating:   0%|          | 0/9 [00:00<?, ?it/s]"
      ]
     },
     "metadata": {},
     "output_type": "display_data"
    },
    {
     "name": "stdout",
     "output_type": "stream",
     "text": [
      "Train Loss: 0.6312 | Val Loss: 0.7144 | Val Acc: 0.62% | Recall: 0.6400 | Precision: 0.6747 | F1: 0.6542\n",
      "\n",
      "Epoch 4/20\n"
     ]
    },
    {
     "data": {
      "application/vnd.jupyter.widget-view+json": {
       "model_id": "5cb83ac0e1e24d08a84d2d2210b991f8",
       "version_major": 2,
       "version_minor": 0
      },
      "text/plain": [
       "Training:   0%|          | 0/33 [00:00<?, ?it/s]"
      ]
     },
     "metadata": {},
     "output_type": "display_data"
    },
    {
     "data": {
      "application/vnd.jupyter.widget-view+json": {
       "model_id": "274ec9ce1a664c088931dd25f9825976",
       "version_major": 2,
       "version_minor": 0
      },
      "text/plain": [
       "Evaluating:   0%|          | 0/9 [00:00<?, ?it/s]"
      ]
     },
     "metadata": {},
     "output_type": "display_data"
    },
    {
     "name": "stdout",
     "output_type": "stream",
     "text": [
      "Train Loss: 0.5242 | Val Loss: 0.6865 | Val Acc: 0.65% | Recall: 0.6716 | Precision: 0.7089 | F1: 0.6816\n",
      "\n",
      "Epoch 5/20\n"
     ]
    },
    {
     "data": {
      "application/vnd.jupyter.widget-view+json": {
       "model_id": "0d6a4cb1e8a945f191ad7097958de1fd",
       "version_major": 2,
       "version_minor": 0
      },
      "text/plain": [
       "Training:   0%|          | 0/33 [00:00<?, ?it/s]"
      ]
     },
     "metadata": {},
     "output_type": "display_data"
    },
    {
     "data": {
      "application/vnd.jupyter.widget-view+json": {
       "model_id": "4bb796e4ccf0412b8ce92bf5d88a3e70",
       "version_major": 2,
       "version_minor": 0
      },
      "text/plain": [
       "Evaluating:   0%|          | 0/9 [00:00<?, ?it/s]"
      ]
     },
     "metadata": {},
     "output_type": "display_data"
    },
    {
     "name": "stdout",
     "output_type": "stream",
     "text": [
      "Train Loss: 0.4112 | Val Loss: 0.6928 | Val Acc: 0.66% | Recall: 0.6846 | Precision: 0.7051 | F1: 0.6924\n",
      "\n",
      "Epoch 6/20\n"
     ]
    },
    {
     "data": {
      "application/vnd.jupyter.widget-view+json": {
       "model_id": "3d1cfe47a9034ea8b6bf68561c8be38c",
       "version_major": 2,
       "version_minor": 0
      },
      "text/plain": [
       "Training:   0%|          | 0/33 [00:00<?, ?it/s]"
      ]
     },
     "metadata": {},
     "output_type": "display_data"
    },
    {
     "data": {
      "application/vnd.jupyter.widget-view+json": {
       "model_id": "58ccb5cc4fd84d9d8d8a854480419764",
       "version_major": 2,
       "version_minor": 0
      },
      "text/plain": [
       "Evaluating:   0%|          | 0/9 [00:00<?, ?it/s]"
      ]
     },
     "metadata": {},
     "output_type": "display_data"
    },
    {
     "name": "stdout",
     "output_type": "stream",
     "text": [
      "Train Loss: 0.3054 | Val Loss: 0.7380 | Val Acc: 0.68% | Recall: 0.6987 | Precision: 0.7240 | F1: 0.7093\n",
      "\n",
      "Epoch 7/20\n"
     ]
    },
    {
     "data": {
      "application/vnd.jupyter.widget-view+json": {
       "model_id": "b530087098f6402cb0cc6292f7bba3db",
       "version_major": 2,
       "version_minor": 0
      },
      "text/plain": [
       "Training:   0%|          | 0/33 [00:00<?, ?it/s]"
      ]
     },
     "metadata": {},
     "output_type": "display_data"
    },
    {
     "data": {
      "application/vnd.jupyter.widget-view+json": {
       "model_id": "41a9a54d6b2e48c0b1b2d529151cd114",
       "version_major": 2,
       "version_minor": 0
      },
      "text/plain": [
       "Evaluating:   0%|          | 0/9 [00:00<?, ?it/s]"
      ]
     },
     "metadata": {},
     "output_type": "display_data"
    },
    {
     "name": "stdout",
     "output_type": "stream",
     "text": [
      "Train Loss: 0.2077 | Val Loss: 0.7834 | Val Acc: 0.68% | Recall: 0.6992 | Precision: 0.7137 | F1: 0.7046\n",
      "\n",
      "Epoch 8/20\n"
     ]
    },
    {
     "data": {
      "application/vnd.jupyter.widget-view+json": {
       "model_id": "42a3e9eac39245a4aeb90fe9924fbb3c",
       "version_major": 2,
       "version_minor": 0
      },
      "text/plain": [
       "Training:   0%|          | 0/33 [00:00<?, ?it/s]"
      ]
     },
     "metadata": {},
     "output_type": "display_data"
    },
    {
     "data": {
      "application/vnd.jupyter.widget-view+json": {
       "model_id": "a37768e35cec4ef6853290677f29f983",
       "version_major": 2,
       "version_minor": 0
      },
      "text/plain": [
       "Evaluating:   0%|          | 0/9 [00:00<?, ?it/s]"
      ]
     },
     "metadata": {},
     "output_type": "display_data"
    },
    {
     "name": "stdout",
     "output_type": "stream",
     "text": [
      "Train Loss: 0.1600 | Val Loss: 0.8052 | Val Acc: 0.66% | Recall: 0.6892 | Precision: 0.7073 | F1: 0.6967\n",
      "\n",
      "Epoch 9/20\n"
     ]
    },
    {
     "data": {
      "application/vnd.jupyter.widget-view+json": {
       "model_id": "91026acd3da045abb28166873f93d47c",
       "version_major": 2,
       "version_minor": 0
      },
      "text/plain": [
       "Training:   0%|          | 0/33 [00:00<?, ?it/s]"
      ]
     },
     "metadata": {},
     "output_type": "display_data"
    },
    {
     "data": {
      "application/vnd.jupyter.widget-view+json": {
       "model_id": "b130f6956182482087133175307bc967",
       "version_major": 2,
       "version_minor": 0
      },
      "text/plain": [
       "Evaluating:   0%|          | 0/9 [00:00<?, ?it/s]"
      ]
     },
     "metadata": {},
     "output_type": "display_data"
    },
    {
     "name": "stdout",
     "output_type": "stream",
     "text": [
      "Train Loss: 0.1189 | Val Loss: 0.8516 | Val Acc: 0.67% | Recall: 0.6881 | Precision: 0.7184 | F1: 0.7007\n",
      "\n",
      "Epoch 10/20\n"
     ]
    },
    {
     "data": {
      "application/vnd.jupyter.widget-view+json": {
       "model_id": "70b118cfa9d2412b9937ece2df8b78bd",
       "version_major": 2,
       "version_minor": 0
      },
      "text/plain": [
       "Training:   0%|          | 0/33 [00:00<?, ?it/s]"
      ]
     },
     "metadata": {},
     "output_type": "display_data"
    },
    {
     "data": {
      "application/vnd.jupyter.widget-view+json": {
       "model_id": "1cc9ef1ed34047f989bb745fcd40d23a",
       "version_major": 2,
       "version_minor": 0
      },
      "text/plain": [
       "Evaluating:   0%|          | 0/9 [00:00<?, ?it/s]"
      ]
     },
     "metadata": {},
     "output_type": "display_data"
    },
    {
     "name": "stdout",
     "output_type": "stream",
     "text": [
      "Train Loss: 0.0953 | Val Loss: 0.9491 | Val Acc: 0.68% | Recall: 0.7010 | Precision: 0.7057 | F1: 0.7007\n",
      "\n",
      "Epoch 11/20\n"
     ]
    },
    {
     "data": {
      "application/vnd.jupyter.widget-view+json": {
       "model_id": "567316f256484f819f1b618b9066a588",
       "version_major": 2,
       "version_minor": 0
      },
      "text/plain": [
       "Training:   0%|          | 0/33 [00:00<?, ?it/s]"
      ]
     },
     "metadata": {},
     "output_type": "display_data"
    },
    {
     "data": {
      "application/vnd.jupyter.widget-view+json": {
       "model_id": "0c8348edd72e4099bec1c954b5349caf",
       "version_major": 2,
       "version_minor": 0
      },
      "text/plain": [
       "Evaluating:   0%|          | 0/9 [00:00<?, ?it/s]"
      ]
     },
     "metadata": {},
     "output_type": "display_data"
    },
    {
     "name": "stdout",
     "output_type": "stream",
     "text": [
      "Train Loss: 0.0801 | Val Loss: 0.8951 | Val Acc: 0.70% | Recall: 0.7165 | Precision: 0.7293 | F1: 0.7211\n",
      "\n",
      "Epoch 12/20\n"
     ]
    },
    {
     "data": {
      "application/vnd.jupyter.widget-view+json": {
       "model_id": "f8e375145de64dc990da2aa7d52c6ec2",
       "version_major": 2,
       "version_minor": 0
      },
      "text/plain": [
       "Training:   0%|          | 0/33 [00:00<?, ?it/s]"
      ]
     },
     "metadata": {},
     "output_type": "display_data"
    },
    {
     "data": {
      "application/vnd.jupyter.widget-view+json": {
       "model_id": "a7695812fde943448e2747bf3594db69",
       "version_major": 2,
       "version_minor": 0
      },
      "text/plain": [
       "Evaluating:   0%|          | 0/9 [00:00<?, ?it/s]"
      ]
     },
     "metadata": {},
     "output_type": "display_data"
    },
    {
     "name": "stdout",
     "output_type": "stream",
     "text": [
      "Train Loss: 0.0753 | Val Loss: 0.9363 | Val Acc: 0.69% | Recall: 0.7153 | Precision: 0.7208 | F1: 0.7169\n",
      "\n",
      "Epoch 13/20\n"
     ]
    },
    {
     "data": {
      "application/vnd.jupyter.widget-view+json": {
       "model_id": "49b49e460c74402cb8d2ed7ecd493820",
       "version_major": 2,
       "version_minor": 0
      },
      "text/plain": [
       "Training:   0%|          | 0/33 [00:00<?, ?it/s]"
      ]
     },
     "metadata": {},
     "output_type": "display_data"
    },
    {
     "data": {
      "application/vnd.jupyter.widget-view+json": {
       "model_id": "a2703edea0e949ec83a516bbc37b0f86",
       "version_major": 2,
       "version_minor": 0
      },
      "text/plain": [
       "Evaluating:   0%|          | 0/9 [00:00<?, ?it/s]"
      ]
     },
     "metadata": {},
     "output_type": "display_data"
    },
    {
     "name": "stdout",
     "output_type": "stream",
     "text": [
      "Train Loss: 0.0633 | Val Loss: 0.9382 | Val Acc: 0.70% | Recall: 0.7151 | Precision: 0.7210 | F1: 0.7175\n",
      "\n",
      "Epoch 14/20\n"
     ]
    },
    {
     "data": {
      "application/vnd.jupyter.widget-view+json": {
       "model_id": "c6d8d85d45014e598783270a2fb95695",
       "version_major": 2,
       "version_minor": 0
      },
      "text/plain": [
       "Training:   0%|          | 0/33 [00:00<?, ?it/s]"
      ]
     },
     "metadata": {},
     "output_type": "display_data"
    },
    {
     "data": {
      "application/vnd.jupyter.widget-view+json": {
       "model_id": "988e89f98b8e4c438f7ea04c598186af",
       "version_major": 2,
       "version_minor": 0
      },
      "text/plain": [
       "Evaluating:   0%|          | 0/9 [00:00<?, ?it/s]"
      ]
     },
     "metadata": {},
     "output_type": "display_data"
    },
    {
     "name": "stdout",
     "output_type": "stream",
     "text": [
      "Train Loss: 0.0650 | Val Loss: 0.9622 | Val Acc: 0.69% | Recall: 0.7079 | Precision: 0.7180 | F1: 0.7107\n",
      "\n",
      "Epoch 15/20\n"
     ]
    },
    {
     "data": {
      "application/vnd.jupyter.widget-view+json": {
       "model_id": "dd581b335e2e4a88ad7834dce13ceaa6",
       "version_major": 2,
       "version_minor": 0
      },
      "text/plain": [
       "Training:   0%|          | 0/33 [00:00<?, ?it/s]"
      ]
     },
     "metadata": {},
     "output_type": "display_data"
    },
    {
     "data": {
      "application/vnd.jupyter.widget-view+json": {
       "model_id": "38e161ffff9f43c1a23b0e7e911d1a35",
       "version_major": 2,
       "version_minor": 0
      },
      "text/plain": [
       "Evaluating:   0%|          | 0/9 [00:00<?, ?it/s]"
      ]
     },
     "metadata": {},
     "output_type": "display_data"
    },
    {
     "name": "stdout",
     "output_type": "stream",
     "text": [
      "Train Loss: 0.0596 | Val Loss: 0.9028 | Val Acc: 0.70% | Recall: 0.7209 | Precision: 0.7231 | F1: 0.7218\n",
      "\n",
      "Epoch 16/20\n"
     ]
    },
    {
     "data": {
      "application/vnd.jupyter.widget-view+json": {
       "model_id": "77a62c91af7d4ed99eaa45c0b5dcc8bf",
       "version_major": 2,
       "version_minor": 0
      },
      "text/plain": [
       "Training:   0%|          | 0/33 [00:00<?, ?it/s]"
      ]
     },
     "metadata": {},
     "output_type": "display_data"
    },
    {
     "data": {
      "application/vnd.jupyter.widget-view+json": {
       "model_id": "b0454c9a14434afeb81c630f99861890",
       "version_major": 2,
       "version_minor": 0
      },
      "text/plain": [
       "Evaluating:   0%|          | 0/9 [00:00<?, ?it/s]"
      ]
     },
     "metadata": {},
     "output_type": "display_data"
    },
    {
     "name": "stdout",
     "output_type": "stream",
     "text": [
      "Train Loss: 0.0405 | Val Loss: 0.9378 | Val Acc: 0.70% | Recall: 0.7239 | Precision: 0.7262 | F1: 0.7247\n",
      "\n",
      "Epoch 17/20\n"
     ]
    },
    {
     "data": {
      "application/vnd.jupyter.widget-view+json": {
       "model_id": "516809dd6ddf4cc5bfa9edf353ca67d5",
       "version_major": 2,
       "version_minor": 0
      },
      "text/plain": [
       "Training:   0%|          | 0/33 [00:00<?, ?it/s]"
      ]
     },
     "metadata": {},
     "output_type": "display_data"
    },
    {
     "data": {
      "application/vnd.jupyter.widget-view+json": {
       "model_id": "0c5dbd71f478486a9c6e37ffb00d89da",
       "version_major": 2,
       "version_minor": 0
      },
      "text/plain": [
       "Evaluating:   0%|          | 0/9 [00:00<?, ?it/s]"
      ]
     },
     "metadata": {},
     "output_type": "display_data"
    },
    {
     "name": "stdout",
     "output_type": "stream",
     "text": [
      "Train Loss: 0.0445 | Val Loss: 0.9527 | Val Acc: 0.70% | Recall: 0.7180 | Precision: 0.7275 | F1: 0.7219\n",
      "\n",
      "Epoch 18/20\n"
     ]
    },
    {
     "data": {
      "application/vnd.jupyter.widget-view+json": {
       "model_id": "fe548b24c7b24d30a1707060ae0f1d4f",
       "version_major": 2,
       "version_minor": 0
      },
      "text/plain": [
       "Training:   0%|          | 0/33 [00:00<?, ?it/s]"
      ]
     },
     "metadata": {},
     "output_type": "display_data"
    },
    {
     "data": {
      "application/vnd.jupyter.widget-view+json": {
       "model_id": "89a8e6c7b2cb4e4eb9f668a634549234",
       "version_major": 2,
       "version_minor": 0
      },
      "text/plain": [
       "Evaluating:   0%|          | 0/9 [00:00<?, ?it/s]"
      ]
     },
     "metadata": {},
     "output_type": "display_data"
    },
    {
     "name": "stdout",
     "output_type": "stream",
     "text": [
      "Train Loss: 0.0379 | Val Loss: 0.9790 | Val Acc: 0.69% | Recall: 0.7138 | Precision: 0.7184 | F1: 0.7155\n",
      "\n",
      "Epoch 19/20\n"
     ]
    },
    {
     "data": {
      "application/vnd.jupyter.widget-view+json": {
       "model_id": "878c0071067745d78fdf587182b0ef8a",
       "version_major": 2,
       "version_minor": 0
      },
      "text/plain": [
       "Training:   0%|          | 0/33 [00:00<?, ?it/s]"
      ]
     },
     "metadata": {},
     "output_type": "display_data"
    },
    {
     "data": {
      "application/vnd.jupyter.widget-view+json": {
       "model_id": "fa474210ca0044fba95f111c8d4a859c",
       "version_major": 2,
       "version_minor": 0
      },
      "text/plain": [
       "Evaluating:   0%|          | 0/9 [00:00<?, ?it/s]"
      ]
     },
     "metadata": {},
     "output_type": "display_data"
    },
    {
     "name": "stdout",
     "output_type": "stream",
     "text": [
      "Train Loss: 0.0315 | Val Loss: 0.9806 | Val Acc: 0.69% | Recall: 0.7155 | Precision: 0.7179 | F1: 0.7154\n",
      "\n",
      "Epoch 20/20\n"
     ]
    },
    {
     "data": {
      "application/vnd.jupyter.widget-view+json": {
       "model_id": "c32e0071fb2f42c297d17b63892ff9e5",
       "version_major": 2,
       "version_minor": 0
      },
      "text/plain": [
       "Training:   0%|          | 0/33 [00:00<?, ?it/s]"
      ]
     },
     "metadata": {},
     "output_type": "display_data"
    },
    {
     "data": {
      "application/vnd.jupyter.widget-view+json": {
       "model_id": "8093afe6325c46109c1cf83662c536a4",
       "version_major": 2,
       "version_minor": 0
      },
      "text/plain": [
       "Evaluating:   0%|          | 0/9 [00:00<?, ?it/s]"
      ]
     },
     "metadata": {},
     "output_type": "display_data"
    },
    {
     "name": "stdout",
     "output_type": "stream",
     "text": [
      "Train Loss: 0.0376 | Val Loss: 0.9990 | Val Acc: 0.69% | Recall: 0.7090 | Precision: 0.7159 | F1: 0.7122\n",
      "Best model saved to: D:\\TFM\\breast_cancer_detection\\models\\output\\efficientnetb0_22c065b7-5c4a-4eef-b70a-22ec119ecf59.pth (val_acc: 0.72%)\n",
      "Model loaded from: D:\\TFM\\breast_cancer_detection\\models\\output\\efficientnetb0_22c065b7-5c4a-4eef-b70a-22ec119ecf59.pth\n"
     ]
    },
    {
     "data": {
      "application/vnd.jupyter.widget-view+json": {
       "model_id": "964c249593d249db916dcd8593eea6f3",
       "version_major": 2,
       "version_minor": 0
      },
      "text/plain": [
       "Evaluating:   0%|          | 0/11 [00:00<?, ?it/s]"
      ]
     },
     "metadata": {},
     "output_type": "display_data"
    },
    {
     "name": "stdout",
     "output_type": "stream",
     "text": [
      "Training history saved to D:\\TFM\\breast_cancer_detection\\models\\logs\\efficientnetb0_22c065b7-5c4a-4eef-b70a-22ec119ecf59_history.csv\n"
     ]
    },
    {
     "data": {
      "image/png": "[encoded data removed]",
      "text/plain": [
       "<Figure size 1500x600 with 2 Axes>"
      ]
     },
     "metadata": {},
     "output_type": "display_data"
    },
    {
     "data": {
      "image/png": "[encoded data removed]",
      "text/plain": [
       "<Figure size 600x500 with 2 Axes>"
      ]
     },
     "metadata": {},
     "output_type": "display_data"
    },
    {
     "name": "stdout",
     "output_type": "stream",
     "text": [
      "\n",
      "==== Training MobileNetV3 ====\n",
      "\n",
      "Epoch 1/20\n"
     ]
    },
    {
     "data": {
      "application/vnd.jupyter.widget-view+json": {
       "model_id": "e3de6ec21d3f4d68a8722b78dedaadd3",
       "version_major": 2,
       "version_minor": 0
      },
      "text/plain": [
       "Training:   0%|          | 0/33 [00:00<?, ?it/s]"
      ]
     },
     "metadata": {},
     "output_type": "display_data"
    },
    {
     "data": {
      "application/vnd.jupyter.widget-view+json": {
       "model_id": "3717a0a42cd04748878989758b2a53a9",
       "version_major": 2,
       "version_minor": 0
      },
      "text/plain": [
       "Evaluating:   0%|          | 0/9 [00:00<?, ?it/s]"
      ]
     },
     "metadata": {},
     "output_type": "display_data"
    },
    {
     "name": "stdout",
     "output_type": "stream",
     "text": [
      "Train Loss: 0.9792 | Val Loss: 1.0483 | Val Acc: 0.43% | Recall: 0.4795 | Precision: 0.4294 | F1: 0.4274\n",
      "\n",
      "Epoch 2/20\n"
     ]
    },
    {
     "data": {
      "application/vnd.jupyter.widget-view+json": {
       "model_id": "4f20411ba61e4b008b2ce19e3afd0ed7",
       "version_major": 2,
       "version_minor": 0
      },
      "text/plain": [
       "Training:   0%|          | 0/33 [00:00<?, ?it/s]"
      ]
     },
     "metadata": {},
     "output_type": "display_data"
    },
    {
     "data": {
      "application/vnd.jupyter.widget-view+json": {
       "model_id": "751551d94cda4cfbb32aa852ae9dca5c",
       "version_major": 2,
       "version_minor": 0
      },
      "text/plain": [
       "Evaluating:   0%|          | 0/9 [00:00<?, ?it/s]"
      ]
     },
     "metadata": {},
     "output_type": "display_data"
    },
    {
     "name": "stdout",
     "output_type": "stream",
     "text": [
      "Train Loss: 0.8116 | Val Loss: 0.9814 | Val Acc: 0.49% | Recall: 0.5281 | Precision: 0.4834 | F1: 0.4871\n",
      "\n",
      "Epoch 3/20\n"
     ]
    },
    {
     "data": {
      "application/vnd.jupyter.widget-view+json": {
       "model_id": "cfbf1661d00143d4be5abfc5337b52c3",
       "version_major": 2,
       "version_minor": 0
      },
      "text/plain": [
       "Training:   0%|          | 0/33 [00:00<?, ?it/s]"
      ]
     },
     "metadata": {},
     "output_type": "display_data"
    },
    {
     "data": {
      "application/vnd.jupyter.widget-view+json": {
       "model_id": "f1c92751cf3342f481cc903e93ab43c7",
       "version_major": 2,
       "version_minor": 0
      },
      "text/plain": [
       "Evaluating:   0%|          | 0/9 [00:00<?, ?it/s]"
      ]
     },
     "metadata": {},
     "output_type": "display_data"
    },
    {
     "name": "stdout",
     "output_type": "stream",
     "text": [
      "Train Loss: 0.7144 | Val Loss: 0.9246 | Val Acc: 0.50% | Recall: 0.5558 | Precision: 0.4962 | F1: 0.5037\n",
      "\n",
      "Epoch 4/20\n"
     ]
    },
    {
     "data": {
      "application/vnd.jupyter.widget-view+json": {
       "model_id": "668720fad59e445dad71b551ad47b462",
       "version_major": 2,
       "version_minor": 0
      },
      "text/plain": [
       "Training:   0%|          | 0/33 [00:00<?, ?it/s]"
      ]
     },
     "metadata": {},
     "output_type": "display_data"
    },
    {
     "data": {
      "application/vnd.jupyter.widget-view+json": {
       "model_id": "d41539f622584d9784bd585d0a893a7d",
       "version_major": 2,
       "version_minor": 0
      },
      "text/plain": [
       "Evaluating:   0%|          | 0/9 [00:00<?, ?it/s]"
      ]
     },
     "metadata": {},
     "output_type": "display_data"
    },
    {
     "name": "stdout",
     "output_type": "stream",
     "text": [
      "Train Loss: 0.6299 | Val Loss: 0.8957 | Val Acc: 0.49% | Recall: 0.5550 | Precision: 0.4927 | F1: 0.4982\n",
      "\n",
      "Epoch 5/20\n"
     ]
    },
    {
     "data": {
      "application/vnd.jupyter.widget-view+json": {
       "model_id": "4087ed246d5242428a7ea0cc92f15836",
       "version_major": 2,
       "version_minor": 0
      },
      "text/plain": [
       "Training:   0%|          | 0/33 [00:00<?, ?it/s]"
      ]
     },
     "metadata": {},
     "output_type": "display_data"
    },
    {
     "data": {
      "application/vnd.jupyter.widget-view+json": {
       "model_id": "2a444fd63cc04d028d207627e42eb2dc",
       "version_major": 2,
       "version_minor": 0
      },
      "text/plain": [
       "Evaluating:   0%|          | 0/9 [00:00<?, ?it/s]"
      ]
     },
     "metadata": {},
     "output_type": "display_data"
    },
    {
     "name": "stdout",
     "output_type": "stream",
     "text": [
      "Train Loss: 0.5547 | Val Loss: 0.8853 | Val Acc: 0.51% | Recall: 0.5753 | Precision: 0.5036 | F1: 0.5020\n",
      "\n",
      "Epoch 6/20\n"
     ]
    },
    {
     "data": {
      "application/vnd.jupyter.widget-view+json": {
       "model_id": "214cdbae348c4334ba8f765db8feda40",
       "version_major": 2,
       "version_minor": 0
      },
      "text/plain": [
       "Training:   0%|          | 0/33 [00:00<?, ?it/s]"
      ]
     },
     "metadata": {},
     "output_type": "display_data"
    },
    {
     "data": {
      "application/vnd.jupyter.widget-view+json": {
       "model_id": "b71fddfdf99049b58c18b33c6fd9e8ad",
       "version_major": 2,
       "version_minor": 0
      },
      "text/plain": [
       "Evaluating:   0%|          | 0/9 [00:00<?, ?it/s]"
      ]
     },
     "metadata": {},
     "output_type": "display_data"
    },
    {
     "name": "stdout",
     "output_type": "stream",
     "text": [
      "Train Loss: 0.4794 | Val Loss: 0.8933 | Val Acc: 0.51% | Recall: 0.5773 | Precision: 0.5073 | F1: 0.5119\n",
      "\n",
      "Epoch 7/20\n"
     ]
    },
    {
     "data": {
      "application/vnd.jupyter.widget-view+json": {
       "model_id": "14b0f4f8d759445d92eb7a7d7f298b1a",
       "version_major": 2,
       "version_minor": 0
      },
      "text/plain": [
       "Training:   0%|          | 0/33 [00:00<?, ?it/s]"
      ]
     },
     "metadata": {},
     "output_type": "display_data"
    },
    {
     "data": {
      "application/vnd.jupyter.widget-view+json": {
       "model_id": "c3075835853e4d7bbdf10a70402a1aad",
       "version_major": 2,
       "version_minor": 0
      },
      "text/plain": [
       "Evaluating:   0%|          | 0/9 [00:00<?, ?it/s]"
      ]
     },
     "metadata": {},
     "output_type": "display_data"
    },
    {
     "name": "stdout",
     "output_type": "stream",
     "text": [
      "Train Loss: 0.4085 | Val Loss: 0.8886 | Val Acc: 0.55% | Recall: 0.6122 | Precision: 0.5455 | F1: 0.5513\n",
      "\n",
      "Epoch 8/20\n"
     ]
    },
    {
     "data": {
      "application/vnd.jupyter.widget-view+json": {
       "model_id": "f90015c4de204dddbf67868dc7b178a3",
       "version_major": 2,
       "version_minor": 0
      },
      "text/plain": [
       "Training:   0%|          | 0/33 [00:00<?, ?it/s]"
      ]
     },
     "metadata": {},
     "output_type": "display_data"
    },
    {
     "data": {
      "application/vnd.jupyter.widget-view+json": {
       "model_id": "9e85e15c0fdd43adb871ee5099fb07e2",
       "version_major": 2,
       "version_minor": 0
      },
      "text/plain": [
       "Evaluating:   0%|          | 0/9 [00:00<?, ?it/s]"
      ]
     },
     "metadata": {},
     "output_type": "display_data"
    },
    {
     "name": "stdout",
     "output_type": "stream",
     "text": [
      "Train Loss: 0.3333 | Val Loss: 0.9181 | Val Acc: 0.56% | Recall: 0.6286 | Precision: 0.5659 | F1: 0.5550\n",
      "\n",
      "Epoch 9/20\n"
     ]
    },
    {
     "data": {
      "application/vnd.jupyter.widget-view+json": {
       "model_id": "e083c7d89bb74b72a00746feb0672d2d",
       "version_major": 2,
       "version_minor": 0
      },
      "text/plain": [
       "Training:   0%|          | 0/33 [00:00<?, ?it/s]"
      ]
     },
     "metadata": {},
     "output_type": "display_data"
    },
    {
     "data": {
      "application/vnd.jupyter.widget-view+json": {
       "model_id": "fbfe6d47cb114f22b80b984a76050b4c",
       "version_major": 2,
       "version_minor": 0
      },
      "text/plain": [
       "Evaluating:   0%|          | 0/9 [00:00<?, ?it/s]"
      ]
     },
     "metadata": {},
     "output_type": "display_data"
    },
    {
     "name": "stdout",
     "output_type": "stream",
     "text": [
      "Train Loss: 0.2699 | Val Loss: 0.8973 | Val Acc: 0.57% | Recall: 0.6213 | Precision: 0.5680 | F1: 0.5645\n",
      "\n",
      "Epoch 10/20\n"
     ]
    },
    {
     "data": {
      "application/vnd.jupyter.widget-view+json": {
       "model_id": "cfe771dfaf6c4e0d83cadf2b2a1a792d",
       "version_major": 2,
       "version_minor": 0
      },
      "text/plain": [
       "Training:   0%|          | 0/33 [00:00<?, ?it/s]"
      ]
     },
     "metadata": {},
     "output_type": "display_data"
    },
    {
     "data": {
      "application/vnd.jupyter.widget-view+json": {
       "model_id": "380fa55892044925ab8b8c027fd80392",
       "version_major": 2,
       "version_minor": 0
      },
      "text/plain": [
       "Evaluating:   0%|          | 0/9 [00:00<?, ?it/s]"
      ]
     },
     "metadata": {},
     "output_type": "display_data"
    },
    {
     "name": "stdout",
     "output_type": "stream",
     "text": [
      "Train Loss: 0.1892 | Val Loss: 0.8869 | Val Acc: 0.59% | Recall: 0.6438 | Precision: 0.5868 | F1: 0.5881\n",
      "\n",
      "Epoch 11/20\n"
     ]
    },
    {
     "data": {
      "application/vnd.jupyter.widget-view+json": {
       "model_id": "04406f8b6cb04ebfa721c40e721b52fd",
       "version_major": 2,
       "version_minor": 0
      },
      "text/plain": [
       "Training:   0%|          | 0/33 [00:00<?, ?it/s]"
      ]
     },
     "metadata": {},
     "output_type": "display_data"
    },
    {
     "data": {
      "application/vnd.jupyter.widget-view+json": {
       "model_id": "63bc664a143542fdbd21283f48a469ae",
       "version_major": 2,
       "version_minor": 0
      },
      "text/plain": [
       "Evaluating:   0%|          | 0/9 [00:00<?, ?it/s]"
      ]
     },
     "metadata": {},
     "output_type": "display_data"
    },
    {
     "name": "stdout",
     "output_type": "stream",
     "text": [
      "Train Loss: 0.1513 | Val Loss: 0.9143 | Val Acc: 0.59% | Recall: 0.6242 | Precision: 0.6132 | F1: 0.6048\n",
      "\n",
      "Epoch 12/20\n"
     ]
    },
    {
     "data": {
      "application/vnd.jupyter.widget-view+json": {
       "model_id": "3e8e333573d8410188a7b84297aea8a9",
       "version_major": 2,
       "version_minor": 0
      },
      "text/plain": [
       "Training:   0%|          | 0/33 [00:00<?, ?it/s]"
      ]
     },
     "metadata": {},
     "output_type": "display_data"
    },
    {
     "data": {
      "application/vnd.jupyter.widget-view+json": {
       "model_id": "1f43b5112fd544808e0a100422b1ab46",
       "version_major": 2,
       "version_minor": 0
      },
      "text/plain": [
       "Evaluating:   0%|          | 0/9 [00:00<?, ?it/s]"
      ]
     },
     "metadata": {},
     "output_type": "display_data"
    },
    {
     "name": "stdout",
     "output_type": "stream",
     "text": [
      "Train Loss: 0.1076 | Val Loss: 0.9393 | Val Acc: 0.58% | Recall: 0.6262 | Precision: 0.6086 | F1: 0.6061\n",
      "\n",
      "Epoch 13/20\n"
     ]
    },
    {
     "data": {
      "application/vnd.jupyter.widget-view+json": {
       "model_id": "8fc142319573482ebeb6fde4e4527998",
       "version_major": 2,
       "version_minor": 0
      },
      "text/plain": [
       "Training:   0%|          | 0/33 [00:00<?, ?it/s]"
      ]
     },
     "metadata": {},
     "output_type": "display_data"
    },
    {
     "data": {
      "application/vnd.jupyter.widget-view+json": {
       "model_id": "eb999b20b79043dbb442cfe9e7814be8",
       "version_major": 2,
       "version_minor": 0
      },
      "text/plain": [
       "Evaluating:   0%|          | 0/9 [00:00<?, ?it/s]"
      ]
     },
     "metadata": {},
     "output_type": "display_data"
    },
    {
     "name": "stdout",
     "output_type": "stream",
     "text": [
      "Train Loss: 0.0861 | Val Loss: 0.9769 | Val Acc: 0.60% | Recall: 0.6344 | Precision: 0.6223 | F1: 0.6172\n",
      "\n",
      "Epoch 14/20\n"
     ]
    },
    {
     "data": {
      "application/vnd.jupyter.widget-view+json": {
       "model_id": "cdd343d8f064493795e3848be45d6348",
       "version_major": 2,
       "version_minor": 0
      },
      "text/plain": [
       "Training:   0%|          | 0/33 [00:00<?, ?it/s]"
      ]
     },
     "metadata": {},
     "output_type": "display_data"
    },
    {
     "data": {
      "application/vnd.jupyter.widget-view+json": {
       "model_id": "a7092629a716464fad814f3a7590fc1c",
       "version_major": 2,
       "version_minor": 0
      },
      "text/plain": [
       "Evaluating:   0%|          | 0/9 [00:00<?, ?it/s]"
      ]
     },
     "metadata": {},
     "output_type": "display_data"
    },
    {
     "name": "stdout",
     "output_type": "stream",
     "text": [
      "Train Loss: 0.0654 | Val Loss: 1.0209 | Val Acc: 0.61% | Recall: 0.6408 | Precision: 0.6250 | F1: 0.6296\n",
      "\n",
      "Epoch 15/20\n"
     ]
    },
    {
     "data": {
      "application/vnd.jupyter.widget-view+json": {
       "model_id": "539c0f90d41f4d95b8ba90bd854cfca4",
       "version_major": 2,
       "version_minor": 0
      },
      "text/plain": [
       "Training:   0%|          | 0/33 [00:00<?, ?it/s]"
      ]
     },
     "metadata": {},
     "output_type": "display_data"
    },
    {
     "data": {
      "application/vnd.jupyter.widget-view+json": {
       "model_id": "8ca243a3cb9941c7a19a7f74c80e28b4",
       "version_major": 2,
       "version_minor": 0
      },
      "text/plain": [
       "Evaluating:   0%|          | 0/9 [00:00<?, ?it/s]"
      ]
     },
     "metadata": {},
     "output_type": "display_data"
    },
    {
     "name": "stdout",
     "output_type": "stream",
     "text": [
      "Train Loss: 0.0373 | Val Loss: 1.1086 | Val Acc: 0.59% | Recall: 0.6309 | Precision: 0.6159 | F1: 0.6204\n",
      "\n",
      "Epoch 16/20\n"
     ]
    },
    {
     "data": {
      "application/vnd.jupyter.widget-view+json": {
       "model_id": "2998434e0e734df2bd41d7511f1eb375",
       "version_major": 2,
       "version_minor": 0
      },
      "text/plain": [
       "Training:   0%|          | 0/33 [00:00<?, ?it/s]"
      ]
     },
     "metadata": {},
     "output_type": "display_data"
    },
    {
     "data": {
      "application/vnd.jupyter.widget-view+json": {
       "model_id": "ab9cfa39417540f9b052ac2b7f609a21",
       "version_major": 2,
       "version_minor": 0
      },
      "text/plain": [
       "Evaluating:   0%|          | 0/9 [00:00<?, ?it/s]"
      ]
     },
     "metadata": {},
     "output_type": "display_data"
    },
    {
     "name": "stdout",
     "output_type": "stream",
     "text": [
      "Train Loss: 0.0367 | Val Loss: 1.1729 | Val Acc: 0.62% | Recall: 0.6463 | Precision: 0.6354 | F1: 0.6390\n",
      "\n",
      "Epoch 17/20\n"
     ]
    },
    {
     "data": {
      "application/vnd.jupyter.widget-view+json": {
       "model_id": "2701e58abb0345f08c3a71d3d3270a80",
       "version_major": 2,
       "version_minor": 0
      },
      "text/plain": [
       "Training:   0%|          | 0/33 [00:00<?, ?it/s]"
      ]
     },
     "metadata": {},
     "output_type": "display_data"
    },
    {
     "data": {
      "application/vnd.jupyter.widget-view+json": {
       "model_id": "faf98030b80d4ba1b5a9e4c3c6e0d43d",
       "version_major": 2,
       "version_minor": 0
      },
      "text/plain": [
       "Evaluating:   0%|          | 0/9 [00:00<?, ?it/s]"
      ]
     },
     "metadata": {},
     "output_type": "display_data"
    },
    {
     "name": "stdout",
     "output_type": "stream",
     "text": [
      "Train Loss: 0.0382 | Val Loss: 1.2957 | Val Acc: 0.61% | Recall: 0.6457 | Precision: 0.6159 | F1: 0.6277\n",
      "\n",
      "Epoch 18/20\n"
     ]
    },
    {
     "data": {
      "application/vnd.jupyter.widget-view+json": {
       "model_id": "4d10717f3c6e456d987644c7f2f684e4",
       "version_major": 2,
       "version_minor": 0
      },
      "text/plain": [
       "Training:   0%|          | 0/33 [00:00<?, ?it/s]"
      ]
     },
     "metadata": {},
     "output_type": "display_data"
    },
    {
     "data": {
      "application/vnd.jupyter.widget-view+json": {
       "model_id": "7dc2e2fcc84543ff94343613ce67fceb",
       "version_major": 2,
       "version_minor": 0
      },
      "text/plain": [
       "Evaluating:   0%|          | 0/9 [00:00<?, ?it/s]"
      ]
     },
     "metadata": {},
     "output_type": "display_data"
    },
    {
     "name": "stdout",
     "output_type": "stream",
     "text": [
      "Train Loss: 0.0267 | Val Loss: 1.3602 | Val Acc: 0.61% | Recall: 0.6395 | Precision: 0.6341 | F1: 0.6359\n",
      "\n",
      "Epoch 19/20\n"
     ]
    },
    {
     "data": {
      "application/vnd.jupyter.widget-view+json": {
       "model_id": "154f082b282648e5aa8d688caa3756ef",
       "version_major": 2,
       "version_minor": 0
      },
      "text/plain": [
       "Training:   0%|          | 0/33 [00:00<?, ?it/s]"
      ]
     },
     "metadata": {},
     "output_type": "display_data"
    },
    {
     "data": {
      "application/vnd.jupyter.widget-view+json": {
       "model_id": "36d5237195924348bd69ebbe9748d41b",
       "version_major": 2,
       "version_minor": 0
      },
      "text/plain": [
       "Evaluating:   0%|          | 0/9 [00:00<?, ?it/s]"
      ]
     },
     "metadata": {},
     "output_type": "display_data"
    },
    {
     "name": "stdout",
     "output_type": "stream",
     "text": [
      "Train Loss: 0.0267 | Val Loss: 1.3678 | Val Acc: 0.63% | Recall: 0.6532 | Precision: 0.6658 | F1: 0.6584\n",
      "\n",
      "Epoch 20/20\n"
     ]
    },
    {
     "data": {
      "application/vnd.jupyter.widget-view+json": {
       "model_id": "8b45bbcddb404b0bbead840cfc455285",
       "version_major": 2,
       "version_minor": 0
      },
      "text/plain": [
       "Training:   0%|          | 0/33 [00:00<?, ?it/s]"
      ]
     },
     "metadata": {},
     "output_type": "display_data"
    },
    {
     "data": {
      "application/vnd.jupyter.widget-view+json": {
       "model_id": "aff96084b80c464c8bf53bbde266f9a3",
       "version_major": 2,
       "version_minor": 0
      },
      "text/plain": [
       "Evaluating:   0%|          | 0/9 [00:00<?, ?it/s]"
      ]
     },
     "metadata": {},
     "output_type": "display_data"
    },
    {
     "name": "stdout",
     "output_type": "stream",
     "text": [
      "Train Loss: 0.0281 | Val Loss: 1.5097 | Val Acc: 0.61% | Recall: 0.6364 | Precision: 0.6318 | F1: 0.6341\n",
      "Best model saved to: D:\\TFM\\breast_cancer_detection\\models\\output\\mobilenetv3_22c065b7-5c4a-4eef-b70a-22ec119ecf59.pth (val_acc: 0.65%)\n",
      "Model loaded from: D:\\TFM\\breast_cancer_detection\\models\\output\\mobilenetv3_22c065b7-5c4a-4eef-b70a-22ec119ecf59.pth\n"
     ]
    },
    {
     "data": {
      "application/vnd.jupyter.widget-view+json": {
       "model_id": "4c619893f52c4f41b5467e33692e619d",
       "version_major": 2,
       "version_minor": 0
      },
      "text/plain": [
       "Evaluating:   0%|          | 0/11 [00:00<?, ?it/s]"
      ]
     },
     "metadata": {},
     "output_type": "display_data"
    },
    {
     "name": "stdout",
     "output_type": "stream",
     "text": [
      "Training history saved to D:\\TFM\\breast_cancer_detection\\models\\logs\\mobilenetv3_22c065b7-5c4a-4eef-b70a-22ec119ecf59_history.csv\n"
     ]
    },
    {
     "data": {
      "image/png": "[encoded data removed]",
      "text/plain": [
       "<Figure size 1500x600 with 2 Axes>"
      ]
     },
     "metadata": {},
     "output_type": "display_data"
    },
    {
     "data": {
      "image/png": "[encoded data removed]",
      "text/plain": [
       "<Figure size 600x500 with 2 Axes>"
      ]
     },
     "metadata": {},
     "output_type": "display_data"
    }
   ],
   "source": [
    "import datetime\n",
    "from sklearn.metrics import confusion_matrix\n",
    "from utils.visualization import (\n",
    "    plot_training_history,\n",
    "    save_training_history_to_csv,\n",
    "    plot_confusion_matrix\n",
    ")\n",
    "\n",
    "results = []\n",
    "\n",
    "strategies = {\n",
    "    \"ResNet50\": ResNetModel(),\n",
    "    \"EfficientNetB0\": EfficientNetModel(),\n",
    "    \"MobileNetV3\": MobileNetModel(),\n",
    "}\n",
    "\n",
    "device = torch.device(\"cuda\" if torch.cuda.is_available() else \"cpu\")\n",
    "\n",
    "for model_name, strategy in strategies.items():\n",
    "    print(f\"\\n==== Training {model_name} ====\")\n",
    "\n",
    "    transform = strategy.get_transforms()\n",
    "\n",
    "    train_dataset = CBISDDSMDataset(\"train.parquet\", transform=transform)\n",
    "    val_dataset   = CBISDDSMDataset(\"val.parquet\", transform=transform)\n",
    "    test_dataset  = CBISDDSMDataset(\"test.parquet\", transform=transform)\n",
    "\n",
    "    train_loader = DataLoader(train_dataset, batch_size=70, shuffle=True, num_workers=4, pin_memory=True)\n",
    "    val_loader   = DataLoader(val_dataset, batch_size=70, shuffle=False, num_workers=4, pin_memory=True)\n",
    "    test_loader  = DataLoader(test_dataset, batch_size=70, shuffle=False, num_workers=4, pin_memory=True)\n",
    "\n",
    "    model = strategy.get_model().to(device)\n",
    "    optimizer = Adam(model.parameters(), lr=1e-4, weight_decay=1e-4)\n",
    "    scheduler = ReduceLROnPlateau(optimizer, mode=\"max\", factor=0.5, patience=3)\n",
    "    criterion = nn.CrossEntropyLoss()\n",
    "\n",
    "    trainer = Trainer(model, device, optimizer, criterion, scheduler)\n",
    "    trainer.fit(train_loader, val_loader, epochs=20)\n",
    "\n",
    "    # Save best model\n",
    "    model_path = os.path.join(MODELS_OUTPUT_PATH, f\"{model_name.lower()}_{correlation_id}.pth\")\n",
    "    trainer.save_best_model(model_path)\n",
    "\n",
    "    # Evaluate on test set\n",
    "    trainer.load_model(model_path)\n",
    "    acc, loss, recall, precision, f1 = trainer.evaluate(test_loader)\n",
    "\n",
    "    # Save evaluation results\n",
    "    results.append({\n",
    "        \"model\": model_name,\n",
    "        \"accuracy\": acc,\n",
    "        \"recall\": recall,\n",
    "        \"precision\": precision,\n",
    "        \"f1_score\": f1\n",
    "    })\n",
    "\n",
    "    # Save training history\n",
    "    history_path = os.path.join(MODELS_LOGS_OUTPUT_PATH, f\"{model_name.lower()}_{correlation_id}_history.csv\")\n",
    "    save_training_history_to_csv(trainer.get_history(), history_path)\n",
    "\n",
    "    # Plot training curves\n",
    "    plot_training_history(trainer.get_history(), model_name=model_name)\n",
    "\n",
    "    # Plot confusion matrix\n",
    "    y_true = []\n",
    "    y_pred = []\n",
    "    model.eval()\n",
    "    with torch.no_grad():\n",
    "        for images, labels in test_loader:\n",
    "            images = images.to(device)\n",
    "            outputs = model(images)\n",
    "            preds = outputs.argmax(dim=1)\n",
    "            y_pred.extend(preds.cpu().numpy())\n",
    "            y_true.extend(labels.numpy())\n",
    "\n",
    "    plot_confusion_matrix(y_true, y_pred, class_names=[\"BENIGN\", \"NO_CALLBACK\", \"MALIGNANT\"],\n",
    "                          title=f\"{model_name} Confusion Matrix\")\n"
   ]
  },
  {
   "cell_type": "code",
   "execution_count": 42,
   "id": "b09d647b-d336-4cd3-88dd-8f5e2c0dfbd7",
   "metadata": {},
   "outputs": [
    {
     "data": {
      "image/png": "[encoded data removed]",
      "text/plain": [
       "<Figure size 1000x600 with 1 Axes>"
      ]
     },
     "metadata": {},
     "output_type": "display_data"
    }
   ],
   "source": [
    "import matplotlib.pyplot as plt\n",
    "import pandas as pd\n",
    "import torch\n",
    "from torch.optim import Adam\n",
    "from torch.optim.lr_scheduler import ReduceLROnPlateau\n",
    "import torch.nn as nn\n",
    "from torch.utils.data import DataLoader\n",
    "\n",
    "# Convert results to DataFrame\n",
    "results_df = pd.DataFrame(results).set_index(\"model\")\n",
    "results_df.sort_index(inplace=True)\n",
    "\n",
    "# Plot all metrics in grouped bars\n",
    "results_df.plot(kind=\"bar\", figsize=(10, 6))\n",
    "plt.title(\"Final Test Metrics by Model\")\n",
    "plt.ylabel(\"Score\")\n",
    "plt.xticks(rotation=0)\n",
    "plt.ylim(0, 1.05)\n",
    "plt.legend(loc=\"lower right\")\n",
    "plt.tight_layout()\n",
    "plt.show()\n",
    "\n",
    "# Save results\n",
    "results_path = os.path.join(MODELS_LOGS_OUTPUT_PATH, f\"summary_test_results_{correlation_id}.csv\")\n",
    "results_df.to_csv(results_path)"
   ]
  }
 ],
 "metadata": {
  "kernelspec": {
   "display_name": "Python 3 (ipykernel)",
   "language": "python",
   "name": "python3"
  },
  "language_info": {
   "codemirror_mode": {
    "name": "ipython",
    "version": 3
   },
   "file_extension": ".py",
   "mimetype": "text/x-python",
   "name": "python",
   "nbconvert_exporter": "python",
   "pygments_lexer": "ipython3",
   "version": "3.12.9"
  }
 },
 "nbformat": 4,
 "nbformat_minor": 5
}
